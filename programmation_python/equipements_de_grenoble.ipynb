{
 "cells": [
  {
   "cell_type": "markdown",
   "metadata": {},
   "source": [
    "# Equipements de Grenoble"
   ]
  },
  {
   "cell_type": "code",
   "execution_count": 2,
   "metadata": {},
   "outputs": [],
   "source": [
    "import folium\n",
    "import requests, json\n",
    "import urllib.parse\n",
    "import pandas"
   ]
  },
  {
   "cell_type": "markdown",
   "metadata": {},
   "source": [
    "La librairie pandas permet de lire les fichiers excel."
   ]
  },
  {
   "cell_type": "code",
   "execution_count": 20,
   "metadata": {},
   "outputs": [],
   "source": [
    "equipements = pandas.read_excel(\"metro/equipements.xlsx\")"
   ]
  },
  {
   "cell_type": "code",
   "execution_count": 22,
   "metadata": {},
   "outputs": [
    {
     "data": {
      "text/html": [
       "<div>\n",
       "<style scoped>\n",
       "    .dataframe tbody tr th:only-of-type {\n",
       "        vertical-align: middle;\n",
       "    }\n",
       "\n",
       "    .dataframe tbody tr th {\n",
       "        vertical-align: top;\n",
       "    }\n",
       "\n",
       "    .dataframe thead th {\n",
       "        text-align: right;\n",
       "    }\n",
       "</style>\n",
       "<table border=\"1\" class=\"dataframe\">\n",
       "  <thead>\n",
       "    <tr style=\"text-align: right;\">\n",
       "      <th></th>\n",
       "      <th>EQUIP_ID</th>\n",
       "      <th>EQUIP_NOM</th>\n",
       "      <th>ADRESSE</th>\n",
       "      <th>EQUIP_WEB_LIEN</th>\n",
       "      <th>DOMAINE_NOM</th>\n",
       "      <th>SOUSDOM_NOM</th>\n",
       "      <th>ADRESSE_ID</th>\n",
       "      <th>TELEPHONE</th>\n",
       "      <th>COURRIEL</th>\n",
       "      <th>HORAIRE</th>\n",
       "      <th>DESCRIPTION</th>\n",
       "      <th>INFO_SUPP</th>\n",
       "    </tr>\n",
       "  </thead>\n",
       "  <tbody>\n",
       "    <tr>\n",
       "      <th>0</th>\n",
       "      <td>1907</td>\n",
       "      <td>Maison des Jeux</td>\n",
       "      <td>48 Quai de France</td>\n",
       "      <td>www.maisondesjeux-grenoble.org/</td>\n",
       "      <td>Sports et Loisirs</td>\n",
       "      <td>Equipements socioculturels</td>\n",
       "      <td>2692.0</td>\n",
       "      <td>04 76 43 28 36</td>\n",
       "      <td>contact@maisondesjeux-grenoble.org</td>\n",
       "      <td>NaN</td>\n",
       "      <td>&lt;p&gt;Depuis 1991, la Maison des Jeux travaille à...</td>\n",
       "      <td>NaN</td>\n",
       "    </tr>\n",
       "    <tr>\n",
       "      <th>1</th>\n",
       "      <td>258</td>\n",
       "      <td>Ecole maternelle Houille Blanche</td>\n",
       "      <td>3 Rue de la Houille Blanche</td>\n",
       "      <td>NaN</td>\n",
       "      <td>Education</td>\n",
       "      <td>Ecoles maternelles</td>\n",
       "      <td>3762.0</td>\n",
       "      <td>04 76 96 41 12</td>\n",
       "      <td>NaN</td>\n",
       "      <td>NaN</td>\n",
       "      <td>NaN</td>\n",
       "      <td>NaN</td>\n",
       "    </tr>\n",
       "    <tr>\n",
       "      <th>2</th>\n",
       "      <td>136</td>\n",
       "      <td>Le Ciel</td>\n",
       "      <td>2 Rue Général Marchand</td>\n",
       "      <td>www.regie2c.fr</td>\n",
       "      <td>Culture</td>\n",
       "      <td>Théâtres et salles de spectacle</td>\n",
       "      <td>2886.0</td>\n",
       "      <td>04 76 63 85 23</td>\n",
       "      <td>laregie2c@regie2c.com</td>\n",
       "      <td>17h15, débuts des concerts à 18h précise 20h15...</td>\n",
       "      <td>&lt;p&gt;Etablissement public créé par la Ville de G...</td>\n",
       "      <td>NaN</td>\n",
       "    </tr>\n",
       "    <tr>\n",
       "      <th>3</th>\n",
       "      <td>2120</td>\n",
       "      <td>Le Prunier Sauvage</td>\n",
       "      <td>63 Rue Albert Reynier</td>\n",
       "      <td>lepruniersauvage.com/</td>\n",
       "      <td>Sports et Loisirs</td>\n",
       "      <td>Equipements socioculturels</td>\n",
       "      <td>4108.0</td>\n",
       "      <td>04 76 49 20 56</td>\n",
       "      <td>infos@culturact.com</td>\n",
       "      <td>NaN</td>\n",
       "      <td>&lt;p&gt;&lt;strong&gt;Le Prunier Sauvage, anciennement \\E...</td>\n",
       "      <td>est un lieu de vie artistique et culturelle o...</td>\n",
       "    </tr>\n",
       "    <tr>\n",
       "      <th>4</th>\n",
       "      <td>2023</td>\n",
       "      <td>Diderot Bureau 1</td>\n",
       "      <td>22 Rue Diderot</td>\n",
       "      <td>NaN</td>\n",
       "      <td>Institutions et Services Publics</td>\n",
       "      <td>Bureaux de vote</td>\n",
       "      <td>4352.0</td>\n",
       "      <td>NaN</td>\n",
       "      <td>NaN</td>\n",
       "      <td>8h - 20h</td>\n",
       "      <td>NaN</td>\n",
       "      <td>NaN</td>\n",
       "    </tr>\n",
       "  </tbody>\n",
       "</table>\n",
       "</div>"
      ],
      "text/plain": [
       "   EQUIP_ID                         EQUIP_NOM                      ADRESSE  \\\n",
       "0      1907                   Maison des Jeux            48 Quai de France   \n",
       "1       258  Ecole maternelle Houille Blanche  3 Rue de la Houille Blanche   \n",
       "2       136                           Le Ciel       2 Rue Général Marchand   \n",
       "3      2120                Le Prunier Sauvage        63 Rue Albert Reynier   \n",
       "4      2023                  Diderot Bureau 1               22 Rue Diderot   \n",
       "\n",
       "                    EQUIP_WEB_LIEN                       DOMAINE_NOM  \\\n",
       "0  www.maisondesjeux-grenoble.org/                 Sports et Loisirs   \n",
       "1                              NaN                         Education   \n",
       "2                   www.regie2c.fr                           Culture   \n",
       "3            lepruniersauvage.com/                 Sports et Loisirs   \n",
       "4                              NaN  Institutions et Services Publics   \n",
       "\n",
       "                       SOUSDOM_NOM  ADRESSE_ID       TELEPHONE  \\\n",
       "0       Equipements socioculturels      2692.0  04 76 43 28 36   \n",
       "1               Ecoles maternelles      3762.0  04 76 96 41 12   \n",
       "2  Théâtres et salles de spectacle      2886.0  04 76 63 85 23   \n",
       "3       Equipements socioculturels      4108.0  04 76 49 20 56   \n",
       "4                  Bureaux de vote      4352.0             NaN   \n",
       "\n",
       "                             COURRIEL  \\\n",
       "0  contact@maisondesjeux-grenoble.org   \n",
       "1                                 NaN   \n",
       "2               laregie2c@regie2c.com   \n",
       "3                 infos@culturact.com   \n",
       "4                                 NaN   \n",
       "\n",
       "                                             HORAIRE  \\\n",
       "0                                                NaN   \n",
       "1                                                NaN   \n",
       "2  17h15, débuts des concerts à 18h précise 20h15...   \n",
       "3                                                NaN   \n",
       "4                                           8h - 20h   \n",
       "\n",
       "                                         DESCRIPTION  \\\n",
       "0  <p>Depuis 1991, la Maison des Jeux travaille à...   \n",
       "1                                                NaN   \n",
       "2  <p>Etablissement public créé par la Ville de G...   \n",
       "3  <p><strong>Le Prunier Sauvage, anciennement \\E...   \n",
       "4                                                NaN   \n",
       "\n",
       "                                           INFO_SUPP  \n",
       "0                                                NaN  \n",
       "1                                                NaN  \n",
       "2                                                NaN  \n",
       "3   est un lieu de vie artistique et culturelle o...  \n",
       "4                                                NaN  "
      ]
     },
     "execution_count": 22,
     "metadata": {},
     "output_type": "execute_result"
    }
   ],
   "source": [
    "equipements.head()"
   ]
  },
  {
   "cell_type": "markdown",
   "metadata": {},
   "source": [
    "## Exercice\n",
    "\n",
    "En vous appuyant sur les librairies vues dans en cours, faites la cartographie les équipements à Grenoble. Si possible, répartissez les différents types d'équipements par couches."
   ]
  },
  {
   "cell_type": "code",
   "execution_count": null,
   "metadata": {},
   "outputs": [],
   "source": []
  }
 ],
 "metadata": {
  "interpreter": {
   "hash": "40d3a090f54c6569ab1632332b64b2c03c39dcf918b08424e98f38b5ae0af88f"
  },
  "kernelspec": {
   "display_name": "Python 3",
   "language": "python",
   "name": "python3"
  },
  "language_info": {
   "codemirror_mode": {
    "name": "ipython",
    "version": 3
   },
   "file_extension": ".py",
   "mimetype": "text/x-python",
   "name": "python",
   "nbconvert_exporter": "python",
   "pygments_lexer": "ipython3",
   "version": "3.8.5"
  },
  "latex_envs": {
   "LaTeX_envs_menu_present": true,
   "autoclose": false,
   "autocomplete": true,
   "bibliofile": "biblio.bib",
   "cite_by": "apalike",
   "current_citInitial": 1,
   "eqLabelWithNumbers": true,
   "eqNumInitial": 1,
   "hotkeys": {
    "equation": "Ctrl-E",
    "itemize": "Ctrl-I"
   },
   "labels_anchors": false,
   "latex_user_defs": false,
   "report_style_numbering": false,
   "user_envs_cfg": false
  }
 },
 "nbformat": 4,
 "nbformat_minor": 5
}
