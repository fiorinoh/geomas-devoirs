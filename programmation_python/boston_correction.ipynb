{
 "cells": [
  {
   "cell_type": "markdown",
   "id": "a2ad6a1a",
   "metadata": {},
   "source": [
    "# Pathfinding in Boston"
   ]
  },
  {
   "cell_type": "markdown",
   "id": "d547764b",
   "metadata": {},
   "source": [
    "A partir de l'algorithme $A^*$ vu en cours, et des fichiers boston/boston_ways.geojson et boston/boston_vertices.geojson :\n",
    "- Choisir aléatoirement 2 points,\n",
    "- Calculer le chemin le plus court entre ces 2 points,\n",
    "- Afficher le résultat."
   ]
  },
  {
   "cell_type": "code",
   "execution_count": 1,
   "id": "713a3652",
   "metadata": {},
   "outputs": [],
   "source": [
    "import folium\n",
    "import geopandas as gpd\n",
    "import random"
   ]
  },
  {
   "cell_type": "code",
   "execution_count": 2,
   "id": "070fc713",
   "metadata": {},
   "outputs": [],
   "source": [
    "class Node():\n",
    "    \"\"\"Classe Node.\n",
    "    \n",
    "    Arguments :\n",
    "    vertice_id : identifiant du noeud\n",
    "    cost : distance réellement parcouru depuis le départ (0 par défaut)\n",
    "    heuristic : estimation de la distance à parcourir jusqu'à destination (0 par défaut)\n",
    "    parent : référence vers le noeud parent dans l'arbre de recherche (None par défaut)\n",
    "    \"\"\"\n",
    "    def __init__(self, vertice_id, cost = 0, heuristic = 0, parent = None):\n",
    "        self.vertice_id = vertice_id\n",
    "        self.cost = cost\n",
    "        self.heuristic = heuristic\n",
    "        self.parent = parent\n",
    "     \n",
    "    # 2 noeuds sont égaux s'ils ont le même id\n",
    "    def __eq__(self, n):\n",
    "        return self.vertice_id == n.vertice_id\n",
    "    \n",
    "    def __str__(self):\n",
    "        return str(self.vertice_id)\n",
    "    \n",
    "    # Construit la liste des noeuds jusqu'à la racine\n",
    "    def get_path(self):\n",
    "        if self.parent is None:\n",
    "            return [self.vertice_id]\n",
    "        else:\n",
    "            return self.parent.get_path() + [self.vertice_id]"
   ]
  },
  {
   "cell_type": "code",
   "execution_count": 3,
   "id": "ef5d9034",
   "metadata": {},
   "outputs": [],
   "source": [
    "def cost(u_id, v_id, ways):\n",
    "    \"\"\"Retourne la longueur de l'arc (u_id, v_id) dans ways.\"\"\"\n",
    "    \n",
    "    # Cas où dans ways source == u_id et target == v_id\n",
    "    c = ways[(ways['source'] == u_id) & (ways['target'] == v_id)]\n",
    "    if not c.empty:\n",
    "        return c.iloc[0]['length_m']\n",
    "    # Sinon l'arc existe dans le sens opposé\n",
    "    else:\n",
    "        c = ways[(ways['target'] == u_id) & (ways['source'] == v_id)].iloc[0]['length_m']\n",
    "        return c"
   ]
  },
  {
   "cell_type": "code",
   "execution_count": 4,
   "id": "3c76f392",
   "metadata": {},
   "outputs": [],
   "source": [
    "def distance(u, v):\n",
    "    \"\"\"Distance catésienne en mètres entre les points u et v dans le plan.\"\"\"\n",
    "    return u.distance(v)"
   ]
  },
  {
   "cell_type": "code",
   "execution_count": 5,
   "id": "104e7f8b",
   "metadata": {},
   "outputs": [],
   "source": [
    "def children(point_id, ways):\n",
    "    \"\"\"Distance liste des noeuds accessibles depuis point_id.\"\"\"\n",
    "    return ways[ways['source'] == point_id]['target'].to_list() + ways[ways['target'] == point_id]['source'].to_list()"
   ]
  },
  {
   "cell_type": "code",
   "execution_count": 6,
   "id": "4dbf8db8",
   "metadata": {},
   "outputs": [],
   "source": [
    "def astart(depart_id, destination_id, ways, vertices):\n",
    "    \"\"\"A* calcule le plus court chemin entre depart_id et destination_id.\"\"\"\n",
    "    \n",
    "    depart = Node(depart_id)\n",
    "    destination = Node(destination_id)\n",
    "    point_destination = vertices[vertices['id'] == destination_id].iloc[0]['geometry']\n",
    "    \n",
    "    closeList = []\n",
    "    openList = [depart]\n",
    "    \n",
    "    while openList:\n",
    "        best = openList.pop(0)\n",
    "        closeList.append(best)\n",
    "        if best == destination:\n",
    "            return best.get_path()\n",
    "        for voisin in children(best.vertice_id, ways):\n",
    "            voisin_cost = best.cost + cost(best.vertice_id, voisin, ways)\n",
    "            point_voisin = vertices[vertices['id'] == voisin].iloc[0]['geometry']\n",
    "            voisin_heuristic = distance(point_voisin, point_destination)\n",
    "            node_voisin = Node(voisin, cost = voisin_cost, heuristic = voisin_heuristic, parent = best)\n",
    "            if not (node_voisin in closeList):\n",
    "                openList.append(node_voisin)\n",
    "                # Trie les noeuds de openList selon leurs valeurs cost + heuristic\n",
    "                openList.sort(key = lambda x : x.cost + x.heuristic)\n",
    "    return []"
   ]
  },
  {
   "cell_type": "code",
   "execution_count": 7,
   "id": "77073025",
   "metadata": {},
   "outputs": [],
   "source": [
    "# Graphe/plan de circulation de la ville de Boston\n",
    "ways = gpd.read_file(\"boston/boston_ways.geojson\")\n",
    "# Noeuds du graphe de Boston\n",
    "vertices = gpd.read_file(\"boston/boston_vertices.geojson\")\n",
    "# Projection de EPSG:4326 vers EPSG:26986 pour calculs de distances cartésiennes\n",
    "ways = ways.to_crs('EPSG:26986')\n",
    "vertices = vertices.to_crs('EPSG:26986')"
   ]
  },
  {
   "cell_type": "code",
   "execution_count": 8,
   "id": "4161238d",
   "metadata": {
    "scrolled": false
   },
   "outputs": [],
   "source": [
    "# Tirage aléatoire des noeuds de départ et d'arrivée\n",
    "depart = vertices.loc[random.randint(0, len(vertices) - 1)]['id']\n",
    "destination = vertices.loc[random.randint(0, len(vertices) - 1)]['id']\n",
    "# Calcule du plus court chemin avec A*\n",
    "shortest_path = astart(depart, destination, ways, vertices)"
   ]
  },
  {
   "cell_type": "code",
   "execution_count": 9,
   "id": "cdebf752",
   "metadata": {},
   "outputs": [],
   "source": [
    "# Carte Folium centrée sur Boston\n",
    "boston = folium.Map(location = [42.361145, -71.057083], zoom_start = 13)"
   ]
  },
  {
   "cell_type": "code",
   "execution_count": 10,
   "id": "2ef86999",
   "metadata": {},
   "outputs": [],
   "source": [
    "# Liste des arcs du plus court chemin\n",
    "edges = []\n",
    "\n",
    "for i in range(0, len(shortest_path) - 1):\n",
    "    # Extraction de u et de son successeur v\n",
    "    u = shortest_path[i]\n",
    "    v = shortest_path[i + 1]\n",
    "    # Extraction de l'arc (u, v)\n",
    "    edge = ways[(ways['source'] == u) & (ways['target'] == v)]\n",
    "    if not edge.empty:\n",
    "        e = edge.iloc[0]['geometry']\n",
    "    else:\n",
    "        e = ways[(ways['source'] == v) & (ways['target'] == u)].iloc[0]['geometry']\n",
    "    edges.append(e)\n",
    "\n",
    "# Construction d'un geodataframe à partir des arcs avec EPSG:26986\n",
    "df = gpd.GeoDataFrame({\"geometry\" : edges}).set_crs('EPSG:26986')\n",
    "# Reprojection en EPSG:4326 pour affichage sur carte Folium\n",
    "p = df.to_crs('EPSG:4326')\n",
    "# Conversion au format geojson\n",
    "edges_json = p.to_json()"
   ]
  },
  {
   "cell_type": "code",
   "execution_count": 11,
   "id": "ec724c7c",
   "metadata": {},
   "outputs": [
    {
     "data": {
      "text/plain": [
       "<folium.map.LayerControl at 0x7fcd7130d400>"
      ]
     },
     "execution_count": 11,
     "metadata": {},
     "output_type": "execute_result"
    }
   ],
   "source": [
    "folium.GeoJson(data = edges_json, name = \"Path\").add_to(boston)\n",
    "folium.LayerControl().add_to(boston)"
   ]
  },
  {
   "cell_type": "code",
   "execution_count": 12,
   "id": "f8251d26",
   "metadata": {
    "scrolled": false
   },
   "outputs": [
    {
     "data": {
      "text/html": [
       "<div style=\"width:100%;\"><div style=\"position:relative;width:100%;height:0;padding-bottom:60%;\"><span style=\"color:#565656\">Make this Notebook Trusted to load map: File -> Trust Notebook</span><iframe src=\"about:blank\" style=\"position:absolute;width:100%;height:100%;left:0;top:0;border:none !important;\" data-html=%3C%21DOCTYPE%20html%3E%0A%3Chead%3E%20%20%20%20%0A%20%20%20%20%3Cmeta%20http-equiv%3D%22content-type%22%20content%3D%22text/html%3B%20charset%3DUTF-8%22%20/%3E%0A%20%20%20%20%0A%20%20%20%20%20%20%20%20%3Cscript%3E%0A%20%20%20%20%20%20%20%20%20%20%20%20L_NO_TOUCH%20%3D%20false%3B%0A%20%20%20%20%20%20%20%20%20%20%20%20L_DISABLE_3D%20%3D%20false%3B%0A%20%20%20%20%20%20%20%20%3C/script%3E%0A%20%20%20%20%0A%20%20%20%20%3Cstyle%3Ehtml%2C%20body%20%7Bwidth%3A%20100%25%3Bheight%3A%20100%25%3Bmargin%3A%200%3Bpadding%3A%200%3B%7D%3C/style%3E%0A%20%20%20%20%3Cstyle%3E%23map%20%7Bposition%3Aabsolute%3Btop%3A0%3Bbottom%3A0%3Bright%3A0%3Bleft%3A0%3B%7D%3C/style%3E%0A%20%20%20%20%3Cscript%20src%3D%22https%3A//cdn.jsdelivr.net/npm/leaflet%401.6.0/dist/leaflet.js%22%3E%3C/script%3E%0A%20%20%20%20%3Cscript%20src%3D%22https%3A//code.jquery.com/jquery-1.12.4.min.js%22%3E%3C/script%3E%0A%20%20%20%20%3Cscript%20src%3D%22https%3A//maxcdn.bootstrapcdn.com/bootstrap/3.2.0/js/bootstrap.min.js%22%3E%3C/script%3E%0A%20%20%20%20%3Cscript%20src%3D%22https%3A//cdnjs.cloudflare.com/ajax/libs/Leaflet.awesome-markers/2.0.2/leaflet.awesome-markers.js%22%3E%3C/script%3E%0A%20%20%20%20%3Clink%20rel%3D%22stylesheet%22%20href%3D%22https%3A//cdn.jsdelivr.net/npm/leaflet%401.6.0/dist/leaflet.css%22/%3E%0A%20%20%20%20%3Clink%20rel%3D%22stylesheet%22%20href%3D%22https%3A//maxcdn.bootstrapcdn.com/bootstrap/3.2.0/css/bootstrap.min.css%22/%3E%0A%20%20%20%20%3Clink%20rel%3D%22stylesheet%22%20href%3D%22https%3A//maxcdn.bootstrapcdn.com/bootstrap/3.2.0/css/bootstrap-theme.min.css%22/%3E%0A%20%20%20%20%3Clink%20rel%3D%22stylesheet%22%20href%3D%22https%3A//maxcdn.bootstrapcdn.com/font-awesome/4.6.3/css/font-awesome.min.css%22/%3E%0A%20%20%20%20%3Clink%20rel%3D%22stylesheet%22%20href%3D%22https%3A//cdnjs.cloudflare.com/ajax/libs/Leaflet.awesome-markers/2.0.2/leaflet.awesome-markers.css%22/%3E%0A%20%20%20%20%3Clink%20rel%3D%22stylesheet%22%20href%3D%22https%3A//cdn.jsdelivr.net/gh/python-visualization/folium/folium/templates/leaflet.awesome.rotate.min.css%22/%3E%0A%20%20%20%20%0A%20%20%20%20%20%20%20%20%20%20%20%20%3Cmeta%20name%3D%22viewport%22%20content%3D%22width%3Ddevice-width%2C%0A%20%20%20%20%20%20%20%20%20%20%20%20%20%20%20%20initial-scale%3D1.0%2C%20maximum-scale%3D1.0%2C%20user-scalable%3Dno%22%20/%3E%0A%20%20%20%20%20%20%20%20%20%20%20%20%3Cstyle%3E%0A%20%20%20%20%20%20%20%20%20%20%20%20%20%20%20%20%23map_55ba81c7d0ac4051b062111e23416e9d%20%7B%0A%20%20%20%20%20%20%20%20%20%20%20%20%20%20%20%20%20%20%20%20position%3A%20relative%3B%0A%20%20%20%20%20%20%20%20%20%20%20%20%20%20%20%20%20%20%20%20width%3A%20100.0%25%3B%0A%20%20%20%20%20%20%20%20%20%20%20%20%20%20%20%20%20%20%20%20height%3A%20100.0%25%3B%0A%20%20%20%20%20%20%20%20%20%20%20%20%20%20%20%20%20%20%20%20left%3A%200.0%25%3B%0A%20%20%20%20%20%20%20%20%20%20%20%20%20%20%20%20%20%20%20%20top%3A%200.0%25%3B%0A%20%20%20%20%20%20%20%20%20%20%20%20%20%20%20%20%7D%0A%20%20%20%20%20%20%20%20%20%20%20%20%3C/style%3E%0A%20%20%20%20%20%20%20%20%0A%3C/head%3E%0A%3Cbody%3E%20%20%20%20%0A%20%20%20%20%0A%20%20%20%20%20%20%20%20%20%20%20%20%3Cdiv%20class%3D%22folium-map%22%20id%3D%22map_55ba81c7d0ac4051b062111e23416e9d%22%20%3E%3C/div%3E%0A%20%20%20%20%20%20%20%20%0A%3C/body%3E%0A%3Cscript%3E%20%20%20%20%0A%20%20%20%20%0A%20%20%20%20%20%20%20%20%20%20%20%20var%20map_55ba81c7d0ac4051b062111e23416e9d%20%3D%20L.map%28%0A%20%20%20%20%20%20%20%20%20%20%20%20%20%20%20%20%22map_55ba81c7d0ac4051b062111e23416e9d%22%2C%0A%20%20%20%20%20%20%20%20%20%20%20%20%20%20%20%20%7B%0A%20%20%20%20%20%20%20%20%20%20%20%20%20%20%20%20%20%20%20%20center%3A%20%5B42.361145%2C%20-71.057083%5D%2C%0A%20%20%20%20%20%20%20%20%20%20%20%20%20%20%20%20%20%20%20%20crs%3A%20L.CRS.EPSG3857%2C%0A%20%20%20%20%20%20%20%20%20%20%20%20%20%20%20%20%20%20%20%20zoom%3A%2013%2C%0A%20%20%20%20%20%20%20%20%20%20%20%20%20%20%20%20%20%20%20%20zoomControl%3A%20true%2C%0A%20%20%20%20%20%20%20%20%20%20%20%20%20%20%20%20%20%20%20%20preferCanvas%3A%20false%2C%0A%20%20%20%20%20%20%20%20%20%20%20%20%20%20%20%20%7D%0A%20%20%20%20%20%20%20%20%20%20%20%20%29%3B%0A%0A%20%20%20%20%20%20%20%20%20%20%20%20%0A%0A%20%20%20%20%20%20%20%20%0A%20%20%20%20%0A%20%20%20%20%20%20%20%20%20%20%20%20var%20tile_layer_d1a2adadde4142c699dffb26f1efdd0b%20%3D%20L.tileLayer%28%0A%20%20%20%20%20%20%20%20%20%20%20%20%20%20%20%20%22https%3A//%7Bs%7D.tile.openstreetmap.org/%7Bz%7D/%7Bx%7D/%7By%7D.png%22%2C%0A%20%20%20%20%20%20%20%20%20%20%20%20%20%20%20%20%7B%22attribution%22%3A%20%22Data%20by%20%5Cu0026copy%3B%20%5Cu003ca%20href%3D%5C%22http%3A//openstreetmap.org%5C%22%5Cu003eOpenStreetMap%5Cu003c/a%5Cu003e%2C%20under%20%5Cu003ca%20href%3D%5C%22http%3A//www.openstreetmap.org/copyright%5C%22%5Cu003eODbL%5Cu003c/a%5Cu003e.%22%2C%20%22detectRetina%22%3A%20false%2C%20%22maxNativeZoom%22%3A%2018%2C%20%22maxZoom%22%3A%2018%2C%20%22minZoom%22%3A%200%2C%20%22noWrap%22%3A%20false%2C%20%22opacity%22%3A%201%2C%20%22subdomains%22%3A%20%22abc%22%2C%20%22tms%22%3A%20false%7D%0A%20%20%20%20%20%20%20%20%20%20%20%20%29.addTo%28map_55ba81c7d0ac4051b062111e23416e9d%29%3B%0A%20%20%20%20%20%20%20%20%0A%20%20%20%20%0A%0A%20%20%20%20%20%20%20%20function%20geo_json_aaa2b5906e3a45bd83e53e7fc56eb34c_onEachFeature%28feature%2C%20layer%29%20%7B%0A%20%20%20%20%20%20%20%20%20%20%20%20layer.on%28%7B%0A%20%20%20%20%20%20%20%20%20%20%20%20%7D%29%3B%0A%20%20%20%20%20%20%20%20%7D%3B%0A%20%20%20%20%20%20%20%20var%20geo_json_aaa2b5906e3a45bd83e53e7fc56eb34c%20%3D%20L.geoJson%28null%2C%20%7B%0A%20%20%20%20%20%20%20%20%20%20%20%20%20%20%20%20onEachFeature%3A%20geo_json_aaa2b5906e3a45bd83e53e7fc56eb34c_onEachFeature%2C%0A%20%20%20%20%20%20%20%20%20%20%20%20%0A%20%20%20%20%20%20%20%20%7D%29%3B%0A%0A%20%20%20%20%20%20%20%20function%20geo_json_aaa2b5906e3a45bd83e53e7fc56eb34c_add%20%28data%29%20%7B%0A%20%20%20%20%20%20%20%20%20%20%20%20geo_json_aaa2b5906e3a45bd83e53e7fc56eb34c%0A%20%20%20%20%20%20%20%20%20%20%20%20%20%20%20%20.addData%28data%29%0A%20%20%20%20%20%20%20%20%20%20%20%20%20%20%20%20.addTo%28map_55ba81c7d0ac4051b062111e23416e9d%29%3B%0A%20%20%20%20%20%20%20%20%7D%0A%20%20%20%20%20%20%20%20%20%20%20%20geo_json_aaa2b5906e3a45bd83e53e7fc56eb34c_add%28%7B%22features%22%3A%20%5B%7B%22geometry%22%3A%20%7B%22coordinates%22%3A%20%5B%5B-71.0285636%2C%2042.367400700000005%5D%2C%20%5B-71.0286431%2C%2042.367472799999994%5D%2C%20%5B-71.0287162%2C%2042.36755650000001%5D%2C%20%5B-71.0287678%2C%2042.36764500000002%5D%2C%20%5B-71.0288058%2C%2042.3677453%5D%2C%20%5B-71.0288262%2C%2042.36784540000001%5D%2C%20%5B-71.0288274%2C%2042.3679491%5D%2C%20%5B-71.0288078%2C%2042.3680496%5D%2C%20%5B-71.028772%2C%2042.368147300000004%5D%2C%20%5B-71.028714%2C%2042.368241199999986%5D%2C%20%5B-71.0286434%2C%2042.3683302%5D%2C%20%5B-71.0284948%2C%2042.36850230000001%5D%5D%2C%20%22type%22%3A%20%22LineString%22%7D%2C%20%22id%22%3A%20%220%22%2C%20%22properties%22%3A%20%7B%7D%2C%20%22type%22%3A%20%22Feature%22%7D%2C%20%7B%22geometry%22%3A%20%7B%22coordinates%22%3A%20%5B%5B-71.0284948%2C%2042.36850230000001%5D%2C%20%5B-71.0283395%2C%2042.3686823%5D%5D%2C%20%22type%22%3A%20%22LineString%22%7D%2C%20%22id%22%3A%20%221%22%2C%20%22properties%22%3A%20%7B%7D%2C%20%22type%22%3A%20%22Feature%22%7D%2C%20%7B%22geometry%22%3A%20%7B%22coordinates%22%3A%20%5B%5B-71.0280599%2C%2042.3690849%5D%2C%20%5B-71.0282567%2C%2042.36885829999999%5D%2C%20%5B-71.0282968%2C%2042.36879809999999%5D%2C%20%5B-71.028321%2C%2042.368746400000006%5D%2C%20%5B-71.0283395%2C%2042.3686823%5D%5D%2C%20%22type%22%3A%20%22LineString%22%7D%2C%20%22id%22%3A%20%222%22%2C%20%22properties%22%3A%20%7B%7D%2C%20%22type%22%3A%20%22Feature%22%7D%2C%20%7B%22geometry%22%3A%20%7B%22coordinates%22%3A%20%5B%5B-71.0299535%2C%2042.369988000000006%5D%2C%20%5B-71.029863%2C%2042.36992680000002%5D%2C%20%5B-71.0297741%2C%2042.369869900000005%5D%2C%20%5B-71.0296798%2C%2042.36981699999998%5D%2C%20%5B-71.0295753%2C%2042.36976520000002%5D%2C%20%5B-71.0280599%2C%2042.3690849%5D%5D%2C%20%22type%22%3A%20%22LineString%22%7D%2C%20%22id%22%3A%20%223%22%2C%20%22properties%22%3A%20%7B%7D%2C%20%22type%22%3A%20%22Feature%22%7D%2C%20%7B%22geometry%22%3A%20%7B%22coordinates%22%3A%20%5B%5B-71.0309807%2C%2042.37006480000001%5D%2C%20%5B-71.0308267%2C%2042.37018610000002%5D%2C%20%5B-71.0307476%2C%2042.3702376%5D%2C%20%5B-71.030681%2C%2042.37026300000001%5D%2C%20%5B-71.0306061%2C%2042.37027859999999%5D%2C%20%5B-71.0305257%2C%2042.37028389999999%5D%2C%20%5B-71.03043680000002%2C%2042.37027480000001%5D%2C%20%5B-71.0303576%2C%2042.3702495%5D%2C%20%5B-71.0302656%2C%2042.37019889999999%5D%2C%20%5B-71.0299535%2C%2042.369988000000006%5D%5D%2C%20%22type%22%3A%20%22LineString%22%7D%2C%20%22id%22%3A%20%224%22%2C%20%22properties%22%3A%20%7B%7D%2C%20%22type%22%3A%20%22Feature%22%7D%2C%20%7B%22geometry%22%3A%20%7B%22coordinates%22%3A%20%5B%5B-71.0318694%2C%2042.370632799999996%5D%2C%20%5B-71.0309807%2C%2042.37006480000001%5D%5D%2C%20%22type%22%3A%20%22LineString%22%7D%2C%20%22id%22%3A%20%225%22%2C%20%22properties%22%3A%20%7B%7D%2C%20%22type%22%3A%20%22Feature%22%7D%2C%20%7B%22geometry%22%3A%20%7B%22coordinates%22%3A%20%5B%5B-71.0319613%2C%2042.37069150000001%5D%2C%20%5B-71.0318694%2C%2042.370632799999996%5D%5D%2C%20%22type%22%3A%20%22LineString%22%7D%2C%20%22id%22%3A%20%226%22%2C%20%22properties%22%3A%20%7B%7D%2C%20%22type%22%3A%20%22Feature%22%7D%2C%20%7B%22geometry%22%3A%20%7B%22coordinates%22%3A%20%5B%5B-71.0326647%2C%2042.3711388%5D%2C%20%5B-71.0319613%2C%2042.37069150000001%5D%5D%2C%20%22type%22%3A%20%22LineString%22%7D%2C%20%22id%22%3A%20%227%22%2C%20%22properties%22%3A%20%7B%7D%2C%20%22type%22%3A%20%22Feature%22%7D%2C%20%7B%22geometry%22%3A%20%7B%22coordinates%22%3A%20%5B%5B-71.0332203%2C%2042.371492100000005%5D%2C%20%5B-71.0326647%2C%2042.3711388%5D%5D%2C%20%22type%22%3A%20%22LineString%22%7D%2C%20%22id%22%3A%20%228%22%2C%20%22properties%22%3A%20%7B%7D%2C%20%22type%22%3A%20%22Feature%22%7D%2C%20%7B%22geometry%22%3A%20%7B%22coordinates%22%3A%20%5B%5B-71.0339227%2C%2042.371938699999994%5D%2C%20%5B-71.0332203%2C%2042.371492100000005%5D%5D%2C%20%22type%22%3A%20%22LineString%22%7D%2C%20%22id%22%3A%20%229%22%2C%20%22properties%22%3A%20%7B%7D%2C%20%22type%22%3A%20%22Feature%22%7D%2C%20%7B%22geometry%22%3A%20%7B%22coordinates%22%3A%20%5B%5B-71.0339868%2C%2042.371979499999995%5D%2C%20%5B-71.0339227%2C%2042.371938699999994%5D%5D%2C%20%22type%22%3A%20%22LineString%22%7D%2C%20%22id%22%3A%20%2210%22%2C%20%22properties%22%3A%20%7B%7D%2C%20%22type%22%3A%20%22Feature%22%7D%2C%20%7B%22geometry%22%3A%20%7B%22coordinates%22%3A%20%5B%5B-71.0340112%2C%2042.37199499999998%5D%2C%20%5B-71.0339868%2C%2042.371979499999995%5D%5D%2C%20%22type%22%3A%20%22LineString%22%7D%2C%20%22id%22%3A%20%2211%22%2C%20%22properties%22%3A%20%7B%7D%2C%20%22type%22%3A%20%22Feature%22%7D%2C%20%7B%22geometry%22%3A%20%7B%22coordinates%22%3A%20%5B%5B-71.0341782%2C%2042.37209920000001%5D%2C%20%5B-71.0340112%2C%2042.37199499999998%5D%5D%2C%20%22type%22%3A%20%22LineString%22%7D%2C%20%22id%22%3A%20%2212%22%2C%20%22properties%22%3A%20%7B%7D%2C%20%22type%22%3A%20%22Feature%22%7D%2C%20%7B%22geometry%22%3A%20%7B%22coordinates%22%3A%20%5B%5B-71.0347389%2C%2042.372467799999995%5D%2C%20%5B-71.0341782%2C%2042.37209920000001%5D%5D%2C%20%22type%22%3A%20%22LineString%22%7D%2C%20%22id%22%3A%20%2213%22%2C%20%22properties%22%3A%20%7B%7D%2C%20%22type%22%3A%20%22Feature%22%7D%2C%20%7B%22geometry%22%3A%20%7B%22coordinates%22%3A%20%5B%5B-71.034817%2C%2042.37251950000001%5D%2C%20%5B-71.0347389%2C%2042.372467799999995%5D%5D%2C%20%22type%22%3A%20%22LineString%22%7D%2C%20%22id%22%3A%20%2214%22%2C%20%22properties%22%3A%20%7B%7D%2C%20%22type%22%3A%20%22Feature%22%7D%2C%20%7B%22geometry%22%3A%20%7B%22coordinates%22%3A%20%5B%5B-71.0353439%2C%2042.372859700000014%5D%2C%20%5B-71.034817%2C%2042.37251950000001%5D%5D%2C%20%22type%22%3A%20%22LineString%22%7D%2C%20%22id%22%3A%20%2215%22%2C%20%22properties%22%3A%20%7B%7D%2C%20%22type%22%3A%20%22Feature%22%7D%2C%20%7B%22geometry%22%3A%20%7B%22coordinates%22%3A%20%5B%5B-71.0354614%2C%2042.37275869999999%5D%2C%20%5B-71.0353439%2C%2042.372859700000014%5D%5D%2C%20%22type%22%3A%20%22LineString%22%7D%2C%20%22id%22%3A%20%2216%22%2C%20%22properties%22%3A%20%7B%7D%2C%20%22type%22%3A%20%22Feature%22%7D%2C%20%7B%22geometry%22%3A%20%7B%22coordinates%22%3A%20%5B%5B-71.0364694%2C%2042.373398800000004%5D%2C%20%5B-71.0354614%2C%2042.37275869999999%5D%5D%2C%20%22type%22%3A%20%22LineString%22%7D%2C%20%22id%22%3A%20%2217%22%2C%20%22properties%22%3A%20%7B%7D%2C%20%22type%22%3A%20%22Feature%22%7D%2C%20%7B%22geometry%22%3A%20%7B%22coordinates%22%3A%20%5B%5B-71.0366247%2C%2042.37349660000003%5D%2C%20%5B-71.0364694%2C%2042.373398800000004%5D%5D%2C%20%22type%22%3A%20%22LineString%22%7D%2C%20%22id%22%3A%20%2218%22%2C%20%22properties%22%3A%20%7B%7D%2C%20%22type%22%3A%20%22Feature%22%7D%2C%20%7B%22geometry%22%3A%20%7B%22coordinates%22%3A%20%5B%5B-71.0368355%2C%2042.37358520000001%5D%2C%20%5B-71.0367587%2C%2042.37356309999999%5D%2C%20%5B-71.0366884%2C%2042.3735328%5D%2C%20%5B-71.0366247%2C%2042.37349660000003%5D%5D%2C%20%22type%22%3A%20%22LineString%22%7D%2C%20%22id%22%3A%20%2219%22%2C%20%22properties%22%3A%20%7B%7D%2C%20%22type%22%3A%20%22Feature%22%7D%2C%20%7B%22geometry%22%3A%20%7B%22coordinates%22%3A%20%5B%5B-71.03819580000001%2C%2042.3732397%5D%2C%20%5B-71.0378043%2C%2042.373438699999994%5D%2C%20%5B-71.0377001%2C%2042.37348329999999%5D%2C%20%5B-71.037592%2C%2042.37352200000001%5D%2C%20%5B-71.0374863%2C%2042.373554900000016%5D%2C%20%5B-71.0373685%2C%2042.373586200000005%5D%2C%20%5B-71.03726470000001%2C%2042.3736023%5D%2C%20%5B-71.0371661%2C%2042.373609300000005%5D%2C%20%5B-71.0370635%2C%2042.373608600000004%5D%2C%20%5B-71.0369707%2C%2042.37360089999998%5D%2C%20%5B-71.0368355%2C%2042.37358520000001%5D%5D%2C%20%22type%22%3A%20%22LineString%22%7D%2C%20%22id%22%3A%20%2220%22%2C%20%22properties%22%3A%20%7B%7D%2C%20%22type%22%3A%20%22Feature%22%7D%2C%20%7B%22geometry%22%3A%20%7B%22coordinates%22%3A%20%5B%5B-71.0393639%2C%2042.37234019999999%5D%2C%20%5B-71.0391831%2C%2042.37245440000001%5D%2C%20%5B-71.0389606%2C%2042.372603100000006%5D%2C%20%5B-71.0387612%2C%2042.372749000000006%5D%2C%20%5B-71.038582%2C%2042.372888200000006%5D%2C%20%5B-71.0384267%2C%2042.37302249999999%5D%2C%20%5B-71.0383036%2C%2042.37313840000001%5D%2C%20%5B-71.03819580000001%2C%2042.3732397%5D%5D%2C%20%22type%22%3A%20%22LineString%22%7D%2C%20%22id%22%3A%20%2221%22%2C%20%22properties%22%3A%20%7B%7D%2C%20%22type%22%3A%20%22Feature%22%7D%2C%20%7B%22geometry%22%3A%20%7B%22coordinates%22%3A%20%5B%5B-71.0533209%2C%2042.3630669%5D%2C%20%5B-71.0393639%2C%2042.37234019999999%5D%5D%2C%20%22type%22%3A%20%22LineString%22%7D%2C%20%22id%22%3A%20%2222%22%2C%20%22properties%22%3A%20%7B%7D%2C%20%22type%22%3A%20%22Feature%22%7D%2C%20%7B%22geometry%22%3A%20%7B%22coordinates%22%3A%20%5B%5B-71.0540236%2C%2042.36255450000001%5D%2C%20%5B-71.053817%2C%2042.362710299999996%5D%2C%20%5B-71.0533209%2C%2042.3630669%5D%5D%2C%20%22type%22%3A%20%22LineString%22%7D%2C%20%22id%22%3A%20%2223%22%2C%20%22properties%22%3A%20%7B%7D%2C%20%22type%22%3A%20%22Feature%22%7D%2C%20%7B%22geometry%22%3A%20%7B%22coordinates%22%3A%20%5B%5B-71.054829%2C%2042.362182%5D%2C%20%5B-71.0547425%2C%2042.3622017%5D%2C%20%5B-71.0546017%2C%2042.3622443%5D%2C%20%5B-71.0544595%2C%2042.362313700000016%5D%2C%20%5B-71.0543469%2C%2042.36239490000001%5D%2C%20%5B-71.0542275%2C%2042.362485099999994%5D%2C%20%5B-71.0541216%2C%2042.3625366%5D%2C%20%5B-71.0540236%2C%2042.36255450000001%5D%5D%2C%20%22type%22%3A%20%22LineString%22%7D%2C%20%22id%22%3A%20%2224%22%2C%20%22properties%22%3A%20%7B%7D%2C%20%22type%22%3A%20%22Feature%22%7D%2C%20%7B%22geometry%22%3A%20%7B%22coordinates%22%3A%20%5B%5B-71.05491900000001%2C%2042.3620603%5D%2C%20%5B-71.054829%2C%2042.362182%5D%5D%2C%20%22type%22%3A%20%22LineString%22%7D%2C%20%22id%22%3A%20%2225%22%2C%20%22properties%22%3A%20%7B%7D%2C%20%22type%22%3A%20%22Feature%22%7D%2C%20%7B%22geometry%22%3A%20%7B%22coordinates%22%3A%20%5B%5B-71.05491900000001%2C%2042.3620603%5D%2C%20%5B-71.0558143%2C%2042.36254499999998%5D%5D%2C%20%22type%22%3A%20%22LineString%22%7D%2C%20%22id%22%3A%20%2226%22%2C%20%22properties%22%3A%20%7B%7D%2C%20%22type%22%3A%20%22Feature%22%7D%2C%20%7B%22geometry%22%3A%20%7B%22coordinates%22%3A%20%5B%5B-71.0558143%2C%2042.36254499999998%5D%2C%20%5B-71.0561093%2C%2042.362379000000004%5D%5D%2C%20%22type%22%3A%20%22LineString%22%7D%2C%20%22id%22%3A%20%2227%22%2C%20%22properties%22%3A%20%7B%7D%2C%20%22type%22%3A%20%22Feature%22%7D%2C%20%7B%22geometry%22%3A%20%7B%22coordinates%22%3A%20%5B%5B-71.0561093%2C%2042.362379000000004%5D%2C%20%5B-71.0562081%2C%2042.362322000000006%5D%5D%2C%20%22type%22%3A%20%22LineString%22%7D%2C%20%22id%22%3A%20%2228%22%2C%20%22properties%22%3A%20%7B%7D%2C%20%22type%22%3A%20%22Feature%22%7D%2C%20%7B%22geometry%22%3A%20%7B%22coordinates%22%3A%20%5B%5B-71.0562081%2C%2042.362322000000006%5D%2C%20%5B-71.0565069%2C%2042.36215190000001%5D%5D%2C%20%22type%22%3A%20%22LineString%22%7D%2C%20%22id%22%3A%20%2229%22%2C%20%22properties%22%3A%20%7B%7D%2C%20%22type%22%3A%20%22Feature%22%7D%2C%20%7B%22geometry%22%3A%20%7B%22coordinates%22%3A%20%5B%5B-71.0566269%2C%2042.36222220000001%5D%2C%20%5B-71.0565069%2C%2042.36215190000001%5D%5D%2C%20%22type%22%3A%20%22LineString%22%7D%2C%20%22id%22%3A%20%2230%22%2C%20%22properties%22%3A%20%7B%7D%2C%20%22type%22%3A%20%22Feature%22%7D%2C%20%7B%22geometry%22%3A%20%7B%22coordinates%22%3A%20%5B%5B-71.057507%2C%2042.36277100000001%5D%2C%20%5B-71.05727%2C%2042.36260800000001%5D%2C%20%5B-71.056991%2C%2042.362427999999994%5D%2C%20%5B-71.056713%2C%2042.362264%5D%2C%20%5B-71.0566269%2C%2042.36222220000001%5D%5D%2C%20%22type%22%3A%20%22LineString%22%7D%2C%20%22id%22%3A%20%2231%22%2C%20%22properties%22%3A%20%7B%7D%2C%20%22type%22%3A%20%22Feature%22%7D%2C%20%7B%22geometry%22%3A%20%7B%22coordinates%22%3A%20%5B%5B-71.0583761%2C%2042.3624797%5D%2C%20%5B-71.057507%2C%2042.36277100000001%5D%5D%2C%20%22type%22%3A%20%22LineString%22%7D%2C%20%22id%22%3A%20%2232%22%2C%20%22properties%22%3A%20%7B%7D%2C%20%22type%22%3A%20%22Feature%22%7D%2C%20%7B%22geometry%22%3A%20%7B%22coordinates%22%3A%20%5B%5B-71.058525%2C%2042.36242419999998%5D%2C%20%5B-71.0583761%2C%2042.3624797%5D%5D%2C%20%22type%22%3A%20%22LineString%22%7D%2C%20%22id%22%3A%20%2233%22%2C%20%22properties%22%3A%20%7B%7D%2C%20%22type%22%3A%20%22Feature%22%7D%2C%20%7B%22geometry%22%3A%20%7B%22coordinates%22%3A%20%5B%5B-71.0586186%2C%2042.36238650000001%5D%2C%20%5B-71.058525%2C%2042.36242419999998%5D%5D%2C%20%22type%22%3A%20%22LineString%22%7D%2C%20%22id%22%3A%20%2234%22%2C%20%22properties%22%3A%20%7B%7D%2C%20%22type%22%3A%20%22Feature%22%7D%2C%20%7B%22geometry%22%3A%20%7B%22coordinates%22%3A%20%5B%5B-71.0589111%2C%2042.3622443%5D%2C%20%5B-71.0586186%2C%2042.36238650000001%5D%5D%2C%20%22type%22%3A%20%22LineString%22%7D%2C%20%22id%22%3A%20%2235%22%2C%20%22properties%22%3A%20%7B%7D%2C%20%22type%22%3A%20%22Feature%22%7D%2C%20%7B%22geometry%22%3A%20%7B%22coordinates%22%3A%20%5B%5B-71.0593507%2C%2042.36203050000001%5D%2C%20%5B-71.0589111%2C%2042.3622443%5D%5D%2C%20%22type%22%3A%20%22LineString%22%7D%2C%20%22id%22%3A%20%2236%22%2C%20%22properties%22%3A%20%7B%7D%2C%20%22type%22%3A%20%22Feature%22%7D%2C%20%7B%22geometry%22%3A%20%7B%22coordinates%22%3A%20%5B%5B-71.0600935%2C%2042.36166490000001%5D%2C%20%5B-71.0593507%2C%2042.36203050000001%5D%5D%2C%20%22type%22%3A%20%22LineString%22%7D%2C%20%22id%22%3A%20%2237%22%2C%20%22properties%22%3A%20%7B%7D%2C%20%22type%22%3A%20%22Feature%22%7D%2C%20%7B%22geometry%22%3A%20%7B%22coordinates%22%3A%20%5B%5B-71.0609524%2C%2042.36124680000001%5D%2C%20%5B-71.0607903%2C%2042.361334800000016%5D%2C%20%5B-71.0606316%2C%2042.3614128%5D%2C%20%5B-71.0604874%2C%2042.361482899999984%5D%2C%20%5B-71.0600935%2C%2042.36166490000001%5D%5D%2C%20%22type%22%3A%20%22LineString%22%7D%2C%20%22id%22%3A%20%2238%22%2C%20%22properties%22%3A%20%7B%7D%2C%20%22type%22%3A%20%22Feature%22%7D%2C%20%7B%22geometry%22%3A%20%7B%22coordinates%22%3A%20%5B%5B-71.0611674%2C%2042.36108350000001%5D%2C%20%5B-71.0610213%2C%2042.36119579999999%5D%2C%20%5B-71.0609524%2C%2042.36124680000001%5D%5D%2C%20%22type%22%3A%20%22LineString%22%7D%2C%20%22id%22%3A%20%2239%22%2C%20%22properties%22%3A%20%7B%7D%2C%20%22type%22%3A%20%22Feature%22%7D%2C%20%7B%22geometry%22%3A%20%7B%22coordinates%22%3A%20%5B%5B-71.0612295%2C%2042.36100979999999%5D%2C%20%5B-71.0611674%2C%2042.36108350000001%5D%5D%2C%20%22type%22%3A%20%22LineString%22%7D%2C%20%22id%22%3A%20%2240%22%2C%20%22properties%22%3A%20%7B%7D%2C%20%22type%22%3A%20%22Feature%22%7D%2C%20%7B%22geometry%22%3A%20%7B%22coordinates%22%3A%20%5B%5B-71.0613168%2C%2042.36090010000001%5D%2C%20%5B-71.0612295%2C%2042.36100979999999%5D%5D%2C%20%22type%22%3A%20%22LineString%22%7D%2C%20%22id%22%3A%20%2241%22%2C%20%22properties%22%3A%20%7B%7D%2C%20%22type%22%3A%20%22Feature%22%7D%2C%20%7B%22geometry%22%3A%20%7B%22coordinates%22%3A%20%5B%5B-71.0613168%2C%2042.36090010000001%5D%2C%20%5B-71.06135470000001%2C%2042.36082230000001%5D%2C%20%5B-71.0613783%2C%2042.36073480000001%5D%2C%20%5B-71.0614724%2C%2042.360166199999995%5D%5D%2C%20%22type%22%3A%20%22LineString%22%7D%2C%20%22id%22%3A%20%2242%22%2C%20%22properties%22%3A%20%7B%7D%2C%20%22type%22%3A%20%22Feature%22%7D%2C%20%7B%22geometry%22%3A%20%7B%22coordinates%22%3A%20%5B%5B-71.0619566%2C%2042.3601631%5D%2C%20%5B-71.0614724%2C%2042.360166199999995%5D%5D%2C%20%22type%22%3A%20%22LineString%22%7D%2C%20%22id%22%3A%20%2243%22%2C%20%22properties%22%3A%20%7B%7D%2C%20%22type%22%3A%20%22Feature%22%7D%2C%20%7B%22geometry%22%3A%20%7B%22coordinates%22%3A%20%5B%5B-71.0621744%2C%2042.360161700000006%5D%2C%20%5B-71.0619566%2C%2042.3601631%5D%5D%2C%20%22type%22%3A%20%22LineString%22%7D%2C%20%22id%22%3A%20%2244%22%2C%20%22properties%22%3A%20%7B%7D%2C%20%22type%22%3A%20%22Feature%22%7D%2C%20%7B%22geometry%22%3A%20%7B%22coordinates%22%3A%20%5B%5B-71.0621744%2C%2042.360161700000006%5D%2C%20%5B-71.0622069%2C%2042.36002249999998%5D%2C%20%5B-71.062856%2C%2042.360007100000004%5D%5D%2C%20%22type%22%3A%20%22LineString%22%7D%2C%20%22id%22%3A%20%2245%22%2C%20%22properties%22%3A%20%7B%7D%2C%20%22type%22%3A%20%22Feature%22%7D%2C%20%7B%22geometry%22%3A%20%7B%22coordinates%22%3A%20%5B%5B-71.0628389%2C%2042.35961480000001%5D%2C%20%5B-71.062856%2C%2042.360007100000004%5D%5D%2C%20%22type%22%3A%20%22LineString%22%7D%2C%20%22id%22%3A%20%2246%22%2C%20%22properties%22%3A%20%7B%7D%2C%20%22type%22%3A%20%22Feature%22%7D%2C%20%7B%22geometry%22%3A%20%7B%22coordinates%22%3A%20%5B%5B-71.0628389%2C%2042.35961480000001%5D%2C%20%5B-71.0628839%2C%2042.359526899999985%5D%2C%20%5B-71.0629263%2C%2042.35948820000001%5D%2C%20%5B-71.0629777%2C%2042.3594711%5D%2C%20%5B-71.0630603%2C%2042.35946559999998%5D%5D%2C%20%22type%22%3A%20%22LineString%22%7D%2C%20%22id%22%3A%20%2247%22%2C%20%22properties%22%3A%20%7B%7D%2C%20%22type%22%3A%20%22Feature%22%7D%2C%20%7B%22geometry%22%3A%20%7B%22coordinates%22%3A%20%5B%5B-71.0630603%2C%2042.35946559999998%5D%2C%20%5B-71.0635612%2C%2042.35942740000003%5D%5D%2C%20%22type%22%3A%20%22LineString%22%7D%2C%20%22id%22%3A%20%2248%22%2C%20%22properties%22%3A%20%7B%7D%2C%20%22type%22%3A%20%22Feature%22%7D%2C%20%7B%22geometry%22%3A%20%7B%22coordinates%22%3A%20%5B%5B-71.0635612%2C%2042.35942740000003%5D%2C%20%5B-71.0635916%2C%2042.35942520000001%5D%5D%2C%20%22type%22%3A%20%22LineString%22%7D%2C%20%22id%22%3A%20%2249%22%2C%20%22properties%22%3A%20%7B%7D%2C%20%22type%22%3A%20%22Feature%22%7D%2C%20%7B%22geometry%22%3A%20%7B%22coordinates%22%3A%20%5B%5B-71.0635916%2C%2042.35942520000001%5D%2C%20%5B-71.0639571%2C%2042.359408200000004%5D%5D%2C%20%22type%22%3A%20%22LineString%22%7D%2C%20%22id%22%3A%20%2250%22%2C%20%22properties%22%3A%20%7B%7D%2C%20%22type%22%3A%20%22Feature%22%7D%2C%20%7B%22geometry%22%3A%20%7B%22coordinates%22%3A%20%5B%5B-71.0639571%2C%2042.359408200000004%5D%2C%20%5B-71.06426980000002%2C%2042.3593898%5D%2C%20%5B-71.0643854%2C%2042.35935210000001%5D%5D%2C%20%22type%22%3A%20%22LineString%22%7D%2C%20%22id%22%3A%20%2251%22%2C%20%22properties%22%3A%20%7B%7D%2C%20%22type%22%3A%20%22Feature%22%7D%2C%20%7B%22geometry%22%3A%20%7B%22coordinates%22%3A%20%5B%5B-71.0643854%2C%2042.35935210000001%5D%2C%20%5B-71.0643828%2C%2042.35851280000001%5D%2C%20%5B-71.0643837%2C%2042.358467700000006%5D%2C%20%5B-71.0644004%2C%2042.3584378%5D%5D%2C%20%22type%22%3A%20%22LineString%22%7D%2C%20%22id%22%3A%20%2252%22%2C%20%22properties%22%3A%20%7B%7D%2C%20%22type%22%3A%20%22Feature%22%7D%2C%20%7B%22geometry%22%3A%20%7B%22coordinates%22%3A%20%5B%5B-71.0644004%2C%2042.3584378%5D%2C%20%5B-71.0644371%2C%2042.35841520000001%5D%2C%20%5B-71.0645102%2C%2042.3584047%5D%2C%20%5B-71.0650799%2C%2042.35834009999997%5D%5D%2C%20%22type%22%3A%20%22LineString%22%7D%2C%20%22id%22%3A%20%2253%22%2C%20%22properties%22%3A%20%7B%7D%2C%20%22type%22%3A%20%22Feature%22%7D%2C%20%7B%22geometry%22%3A%20%7B%22coordinates%22%3A%20%5B%5B-71.0650799%2C%2042.35834009999997%5D%2C%20%5B-71.06583540000001%2C%2042.35833530000001%5D%2C%20%5B-71.0662842%2C%2042.358306599999985%5D%5D%2C%20%22type%22%3A%20%22LineString%22%7D%2C%20%22id%22%3A%20%2254%22%2C%20%22properties%22%3A%20%7B%7D%2C%20%22type%22%3A%20%22Feature%22%7D%2C%20%7B%22geometry%22%3A%20%7B%22coordinates%22%3A%20%5B%5B-71.0685146%2C%2042.3580075%5D%2C%20%5B-71.0665592%2C%2042.358276700000005%5D%2C%20%5B-71.0662842%2C%2042.358306599999985%5D%5D%2C%20%22type%22%3A%20%22LineString%22%7D%2C%20%22id%22%3A%20%2255%22%2C%20%22properties%22%3A%20%7B%7D%2C%20%22type%22%3A%20%22Feature%22%7D%2C%20%7B%22geometry%22%3A%20%7B%22coordinates%22%3A%20%5B%5B-71.0687874%2C%2042.357977099999985%5D%2C%20%5B-71.0685146%2C%2042.3580075%5D%5D%2C%20%22type%22%3A%20%22LineString%22%7D%2C%20%22id%22%3A%20%2256%22%2C%20%22properties%22%3A%20%7B%7D%2C%20%22type%22%3A%20%22Feature%22%7D%2C%20%7B%22geometry%22%3A%20%7B%22coordinates%22%3A%20%5B%5B-71.0694769%2C%2042.357896399999994%5D%2C%20%5B-71.0687874%2C%2042.357977099999985%5D%5D%2C%20%22type%22%3A%20%22LineString%22%7D%2C%20%22id%22%3A%20%2257%22%2C%20%22properties%22%3A%20%7B%7D%2C%20%22type%22%3A%20%22Feature%22%7D%2C%20%7B%22geometry%22%3A%20%7B%22coordinates%22%3A%20%5B%5B-71.0698565%2C%2042.357848400000016%5D%2C%20%5B-71.0694769%2C%2042.357896399999994%5D%5D%2C%20%22type%22%3A%20%22LineString%22%7D%2C%20%22id%22%3A%20%2258%22%2C%20%22properties%22%3A%20%7B%7D%2C%20%22type%22%3A%20%22Feature%22%7D%2C%20%7B%22geometry%22%3A%20%7B%22coordinates%22%3A%20%5B%5B-71.0702841%2C%2042.3577809%5D%2C%20%5B-71.0702046%2C%2042.3577985%5D%2C%20%5B-71.0698565%2C%2042.357848400000016%5D%5D%2C%20%22type%22%3A%20%22LineString%22%7D%2C%20%22id%22%3A%20%2259%22%2C%20%22properties%22%3A%20%7B%7D%2C%20%22type%22%3A%20%22Feature%22%7D%2C%20%7B%22geometry%22%3A%20%7B%22coordinates%22%3A%20%5B%5B-71.0707068%2C%2042.3576957%5D%2C%20%5B-71.0706568%2C%2042.3576915%5D%2C%20%5B-71.0706028%2C%2042.35769590000002%5D%2C%20%5B-71.0702841%2C%2042.3577809%5D%5D%2C%20%22type%22%3A%20%22LineString%22%7D%2C%20%22id%22%3A%20%2260%22%2C%20%22properties%22%3A%20%7B%7D%2C%20%22type%22%3A%20%22Feature%22%7D%2C%20%7B%22geometry%22%3A%20%7B%22coordinates%22%3A%20%5B%5B-71.0719941%2C%2042.35742729999999%5D%2C%20%5B-71.071368%2C%2042.35756499999999%5D%2C%20%5B-71.0708008%2C%2042.3576902%5D%2C%20%5B-71.0707534%2C%2042.35769650000002%5D%2C%20%5B-71.0707068%2C%2042.3576957%5D%5D%2C%20%22type%22%3A%20%22LineString%22%7D%2C%20%22id%22%3A%20%2261%22%2C%20%22properties%22%3A%20%7B%7D%2C%20%22type%22%3A%20%22Feature%22%7D%2C%20%7B%22geometry%22%3A%20%7B%22coordinates%22%3A%20%5B%5B-71.0723347%2C%2042.35735360000001%5D%2C%20%5B-71.0719941%2C%2042.35742729999999%5D%5D%2C%20%22type%22%3A%20%22LineString%22%7D%2C%20%22id%22%3A%20%2262%22%2C%20%22properties%22%3A%20%7B%7D%2C%20%22type%22%3A%20%22Feature%22%7D%5D%2C%20%22type%22%3A%20%22FeatureCollection%22%7D%29%3B%0A%0A%20%20%20%20%20%20%20%20%0A%20%20%20%20%0A%20%20%20%20%20%20%20%20%20%20%20%20var%20layer_control_5917281a8d384038acf7e7d347d0bd2d%20%3D%20%7B%0A%20%20%20%20%20%20%20%20%20%20%20%20%20%20%20%20base_layers%20%3A%20%7B%0A%20%20%20%20%20%20%20%20%20%20%20%20%20%20%20%20%20%20%20%20%22openstreetmap%22%20%3A%20tile_layer_d1a2adadde4142c699dffb26f1efdd0b%2C%0A%20%20%20%20%20%20%20%20%20%20%20%20%20%20%20%20%7D%2C%0A%20%20%20%20%20%20%20%20%20%20%20%20%20%20%20%20overlays%20%3A%20%20%7B%0A%20%20%20%20%20%20%20%20%20%20%20%20%20%20%20%20%20%20%20%20%22Path%22%20%3A%20geo_json_aaa2b5906e3a45bd83e53e7fc56eb34c%2C%0A%20%20%20%20%20%20%20%20%20%20%20%20%20%20%20%20%7D%2C%0A%20%20%20%20%20%20%20%20%20%20%20%20%7D%3B%0A%20%20%20%20%20%20%20%20%20%20%20%20L.control.layers%28%0A%20%20%20%20%20%20%20%20%20%20%20%20%20%20%20%20layer_control_5917281a8d384038acf7e7d347d0bd2d.base_layers%2C%0A%20%20%20%20%20%20%20%20%20%20%20%20%20%20%20%20layer_control_5917281a8d384038acf7e7d347d0bd2d.overlays%2C%0A%20%20%20%20%20%20%20%20%20%20%20%20%20%20%20%20%7B%22autoZIndex%22%3A%20true%2C%20%22collapsed%22%3A%20true%2C%20%22position%22%3A%20%22topright%22%7D%0A%20%20%20%20%20%20%20%20%20%20%20%20%29.addTo%28map_55ba81c7d0ac4051b062111e23416e9d%29%3B%0A%20%20%20%20%20%20%20%20%0A%3C/script%3E onload=\"this.contentDocument.open();this.contentDocument.write(    decodeURIComponent(this.getAttribute('data-html')));this.contentDocument.close();\" allowfullscreen webkitallowfullscreen mozallowfullscreen></iframe></div></div>"
      ],
      "text/plain": [
       "<folium.folium.Map at 0x7fcd7116d7c0>"
      ]
     },
     "execution_count": 12,
     "metadata": {},
     "output_type": "execute_result"
    }
   ],
   "source": [
    "boston"
   ]
  },
  {
   "cell_type": "code",
   "execution_count": null,
   "id": "2acf0df9",
   "metadata": {},
   "outputs": [],
   "source": []
  }
 ],
 "metadata": {
  "kernelspec": {
   "display_name": "Python 3",
   "language": "python",
   "name": "python3"
  },
  "language_info": {
   "codemirror_mode": {
    "name": "ipython",
    "version": 3
   },
   "file_extension": ".py",
   "mimetype": "text/x-python",
   "name": "python",
   "nbconvert_exporter": "python",
   "pygments_lexer": "ipython3",
   "version": "3.8.8"
  }
 },
 "nbformat": 4,
 "nbformat_minor": 5
}
