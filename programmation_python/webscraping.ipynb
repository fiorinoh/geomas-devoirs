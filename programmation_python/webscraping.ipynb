{
 "cells": [
  {
   "cell_type": "markdown",
   "id": "f5643ca7",
   "metadata": {},
   "source": [
    "# Mission: Impossible"
   ]
  },
  {
   "cell_type": "markdown",
   "id": "df2f2fbc",
   "metadata": {},
   "source": [
    "Le but de cette mission est de webscraper le world factbook de la CIA et de cartographier les données collectées sur un dashboard cartographique (carte intéractive + widget de présentation des données attributaires).  \n",
    "\n",
    "Voici quelques ressources qui vous permettront de la réaliser :\n",
    "- https://www.cia.gov/the-world-factbook/\n",
    "- https://youtu.be/t9Ed5QyO7qY\n",
    "- https://ipywidgets.readthedocs.io/\n",
    "- https://public.opendatasoft.com/explore/dataset/world-administrative-boundaries/table/?sort=iso3\n",
    "- https://www.cia.gov/the-world-factbook/references/country-data-codes/\n",
    "\n",
    "Cette mission, si vous l'acceptez, se terminera le **17 décembre 2021 à 18h**. A vous de recruter votre équipe (3 personnes max) formée d'au moins un expert en programmation python. Comme d'habitude, si vous ou l'un de vos agents étiez capturé ou épuisé, l'Institut of Urban Planning and Alpine Geography nierait avoir eu connaissance de vos agissements."
   ]
  },
  {
   "cell_type": "code",
   "execution_count": null,
   "id": "de4d8a9f",
   "metadata": {},
   "outputs": [],
   "source": []
  }
 ],
 "metadata": {
  "kernelspec": {
   "display_name": "Python 3",
   "language": "python",
   "name": "python3"
  },
  "language_info": {
   "codemirror_mode": {
    "name": "ipython",
    "version": 3
   },
   "file_extension": ".py",
   "mimetype": "text/x-python",
   "name": "python",
   "nbconvert_exporter": "python",
   "pygments_lexer": "ipython3",
   "version": "3.8.8"
  }
 },
 "nbformat": 4,
 "nbformat_minor": 5
}
