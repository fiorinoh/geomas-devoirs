{
 "cells": [
  {
   "cell_type": "markdown",
   "id": "f5643ca7",
   "metadata": {},
   "source": [
    "# Mission: Impossible"
   ]
  },
  {
   "cell_type": "markdown",
   "id": "df2f2fbc",
   "metadata": {},
   "source": [
    "Le but de cette mission est de webscraper le world factbook de la CIA et de cartographier les données collectées sur un dashboard cartographique (carte intéractive + widget de présentation des données attributaires).  \n",
    "\n",
    "Voici quelques ressources qui vous permettront de la réaliser :\n",
    "- https://www.cia.gov/the-world-factbook/\n",
    "- https://youtu.be/t9Ed5QyO7qY\n",
    "- https://ipywidgets.readthedocs.io/\n",
    "- https://public.opendatasoft.com/explore/dataset/world-administrative-boundaries/table/?sort=iso3\n",
    "- https://www.cia.gov/the-world-factbook/references/country-data-codes/\n",
    "\n",
    "Cette mission, si vous l'acceptez, se terminera le **17 décembre 2021 à 18h**. A vous de recruter votre équipe (3 personnes max) formée d'au moins un expert en programmation python. Comme d'habitude, si vous ou l'un de vos agents étiez capturé ou épuisé, l'Institut of Urban Planning and Alpine Geography nierait avoir eu connaissance de vos agissements."
   ]
  },
  {
   "cell_type": "markdown",
   "id": "3422162d",
   "metadata": {},
   "source": [
    "### Chargement des librairies"
   ]
  },
  {
   "cell_type": "code",
   "execution_count": 87,
   "id": "8ecd480f",
   "metadata": {},
   "outputs": [],
   "source": [
    "from bs4 import BeautifulSoup\n",
    "import csv\n",
    "import geopandas\n",
    "from ipyleaflet import Map\n",
    "import leafmap\n",
    "import pandas\n",
    "import urllib.request"
   ]
  },
  {
   "cell_type": "markdown",
   "id": "843a1d63",
   "metadata": {},
   "source": [
    "### Chargement du fond de carte"
   ]
  },
  {
   "cell_type": "code",
   "execution_count": 88,
   "id": "48d965e5",
   "metadata": {},
   "outputs": [
    {
     "data": {
      "application/vnd.jupyter.widget-view+json": {
       "model_id": "09ca11f495974d9ebcccfca2561b20c7",
       "version_major": 2,
       "version_minor": 0
      },
      "text/plain": [
       "Map(center=[45, 0], controls=(ZoomControl(options=['position', 'zoom_in_text', 'zoom_in_title', 'zoom_out_text…"
      ]
     },
     "metadata": {},
     "output_type": "display_data"
    }
   ],
   "source": [
    "world = leafmap.Map(center = [45, 0], zoom = 2)\n",
    "style = {\n",
    "    \"stroke\": True,\n",
    "    \"color\": \"#0000ff\",\n",
    "    \"weight\": 2,\n",
    "    \"opacity\": 1,\n",
    "    \"fill\": True,\n",
    "    \"fillColor\": \"#0000ff\",\n",
    "    \"fillOpacity\": 0.1,\n",
    "}\n",
    "hover_style = {\"fillOpacity\": 0.7}\n",
    "world.add_geojson(\"webscraping/world-administrative-boundaries.geojson\", layer_name = \"World\", style = style, hover_style = hover_style)\n",
    "world"
   ]
  },
  {
   "cell_type": "markdown",
   "id": "2a2d6d7c",
   "metadata": {},
   "source": [
    "### Chargement des données"
   ]
  },
  {
   "cell_type": "code",
   "execution_count": 71,
   "id": "58beec0c",
   "metadata": {},
   "outputs": [
    {
     "data": {
      "text/html": [
       "<div>\n",
       "<style scoped>\n",
       "    .dataframe tbody tr th:only-of-type {\n",
       "        vertical-align: middle;\n",
       "    }\n",
       "\n",
       "    .dataframe tbody tr th {\n",
       "        vertical-align: top;\n",
       "    }\n",
       "\n",
       "    .dataframe thead th {\n",
       "        text-align: right;\n",
       "    }\n",
       "</style>\n",
       "<table border=\"1\" class=\"dataframe\">\n",
       "  <thead>\n",
       "    <tr style=\"text-align: right;\">\n",
       "      <th></th>\n",
       "      <th>Code</th>\n",
       "      <th>Name</th>\n",
       "      <th>Category</th>\n",
       "      <th>Region</th>\n",
       "    </tr>\n",
       "  </thead>\n",
       "  <tbody>\n",
       "    <tr>\n",
       "      <th>0</th>\n",
       "      <td>af</td>\n",
       "      <td>Afghanistan</td>\n",
       "      <td>Countries</td>\n",
       "      <td>South Asia</td>\n",
       "    </tr>\n",
       "    <tr>\n",
       "      <th>1</th>\n",
       "      <td>al</td>\n",
       "      <td>Albania</td>\n",
       "      <td>Countries</td>\n",
       "      <td>Europe</td>\n",
       "    </tr>\n",
       "    <tr>\n",
       "      <th>2</th>\n",
       "      <td>ag</td>\n",
       "      <td>Algeria</td>\n",
       "      <td>Countries</td>\n",
       "      <td>Africa</td>\n",
       "    </tr>\n",
       "    <tr>\n",
       "      <th>3</th>\n",
       "      <td>an</td>\n",
       "      <td>Andorra</td>\n",
       "      <td>Countries</td>\n",
       "      <td>Europe</td>\n",
       "    </tr>\n",
       "    <tr>\n",
       "      <th>4</th>\n",
       "      <td>ao</td>\n",
       "      <td>Angola</td>\n",
       "      <td>Countries</td>\n",
       "      <td>Africa</td>\n",
       "    </tr>\n",
       "  </tbody>\n",
       "</table>\n",
       "</div>"
      ],
      "text/plain": [
       "  Code         Name   Category      Region\n",
       "0   af  Afghanistan  Countries  South Asia\n",
       "1   al      Albania  Countries      Europe\n",
       "2   ag      Algeria  Countries      Africa\n",
       "3   an      Andorra  Countries      Europe\n",
       "4   ao       Angola  Countries      Africa"
      ]
     },
     "execution_count": 71,
     "metadata": {},
     "output_type": "execute_result"
    }
   ],
   "source": [
    "# Chargement des codes normalisés des pays\n",
    "codes = pandas.read_csv(\"webscraping/codes.csv\")\n",
    "codes.head()"
   ]
  },
  {
   "cell_type": "code",
   "execution_count": 48,
   "id": "15a2e5bc",
   "metadata": {
    "scrolled": false
   },
   "outputs": [],
   "source": [
    "# url des thèmes disponibles\n",
    "url_themes = \"https://www.cia.gov/the-world-factbook/references/guide-to-country-comparisons/\"\n",
    "page = urllib.request.urlopen(url_themes)\n",
    "soup = BeautifulSoup(page, 'html.parser')\n",
    "theme = soup.find_all('a', attrs={'class': 'link-button bold'})\n",
    "theme_links = []\n",
    "for link in theme:\n",
    "    theme_links.append('https://www.cia.gov' + link.get('href'))"
   ]
  },
  {
   "cell_type": "code",
   "execution_count": 59,
   "id": "3177d00f",
   "metadata": {},
   "outputs": [
    {
     "data": {
      "text/plain": [
       "['https://www.cia.gov/the-world-factbook/field/area/country-comparison',\n",
       " 'https://www.cia.gov/the-world-factbook/field/population/country-comparison',\n",
       " 'https://www.cia.gov/the-world-factbook/field/median-age/country-comparison',\n",
       " 'https://www.cia.gov/the-world-factbook/field/population-growth-rate/country-comparison',\n",
       " 'https://www.cia.gov/the-world-factbook/field/birth-rate/country-comparison',\n",
       " 'https://www.cia.gov/the-world-factbook/field/death-rate/country-comparison',\n",
       " 'https://www.cia.gov/the-world-factbook/field/net-migration-rate/country-comparison',\n",
       " 'https://www.cia.gov/the-world-factbook/field/maternal-mortality-ratio/country-comparison',\n",
       " 'https://www.cia.gov/the-world-factbook/field/infant-mortality-rate/country-comparison',\n",
       " 'https://www.cia.gov/the-world-factbook/field/life-expectancy-at-birth/country-comparison',\n",
       " 'https://www.cia.gov/the-world-factbook/field/total-fertility-rate/country-comparison',\n",
       " 'https://www.cia.gov/the-world-factbook/field/hiv-aids-adult-prevalence-rate/country-comparison',\n",
       " 'https://www.cia.gov/the-world-factbook/field/hiv-aids-people-living-with-hiv-aids/country-comparison',\n",
       " 'https://www.cia.gov/the-world-factbook/field/hiv-aids-deaths/country-comparison',\n",
       " 'https://www.cia.gov/the-world-factbook/field/obesity-adult-prevalence-rate/country-comparison',\n",
       " 'https://www.cia.gov/the-world-factbook/field/children-under-the-age-of-5-years-underweight/country-comparison',\n",
       " 'https://www.cia.gov/the-world-factbook/field/education-expenditures/country-comparison',\n",
       " 'https://www.cia.gov/the-world-factbook/field/unemployment-youth-ages-15-24/country-comparison',\n",
       " 'https://www.cia.gov/the-world-factbook/field/revenue-from-forest-resources/country-comparison',\n",
       " 'https://www.cia.gov/the-world-factbook/field/revenue-from-coal/country-comparison',\n",
       " 'https://www.cia.gov/the-world-factbook/field/real-gdp-purchasing-power-parity/country-comparison',\n",
       " 'https://www.cia.gov/the-world-factbook/field/real-gdp-growth-rate/country-comparison',\n",
       " 'https://www.cia.gov/the-world-factbook/field/real-gdp-per-capita/country-comparison',\n",
       " 'https://www.cia.gov/the-world-factbook/field/inflation-rate-consumer-prices/country-comparison',\n",
       " 'https://www.cia.gov/the-world-factbook/field/industrial-production-growth-rate/country-comparison',\n",
       " 'https://www.cia.gov/the-world-factbook/field/labor-force/country-comparison',\n",
       " 'https://www.cia.gov/the-world-factbook/field/unemployment-rate/country-comparison',\n",
       " 'https://www.cia.gov/the-world-factbook/field/gini-index-coefficient-distribution-of-family-income/country-comparison',\n",
       " 'https://www.cia.gov/the-world-factbook/field/budget-surplus-or-deficit/country-comparison',\n",
       " 'https://www.cia.gov/the-world-factbook/field/public-debt/country-comparison',\n",
       " 'https://www.cia.gov/the-world-factbook/field/taxes-and-other-revenues/country-comparison',\n",
       " 'https://www.cia.gov/the-world-factbook/field/current-account-balance/country-comparison',\n",
       " 'https://www.cia.gov/the-world-factbook/field/exports/country-comparison',\n",
       " 'https://www.cia.gov/the-world-factbook/field/imports/country-comparison',\n",
       " 'https://www.cia.gov/the-world-factbook/field/reserves-of-foreign-exchange-and-gold/country-comparison',\n",
       " 'https://www.cia.gov/the-world-factbook/field/debt-external/country-comparison',\n",
       " 'https://www.cia.gov/the-world-factbook/field/electricity-production/country-comparison',\n",
       " 'https://www.cia.gov/the-world-factbook/field/electricity-consumption/country-comparison',\n",
       " 'https://www.cia.gov/the-world-factbook/field/electricity-exports/country-comparison',\n",
       " 'https://www.cia.gov/the-world-factbook/field/electricity-imports/country-comparison',\n",
       " 'https://www.cia.gov/the-world-factbook/field/electricity-installed-generating-capacity/country-comparison',\n",
       " 'https://www.cia.gov/the-world-factbook/field/electricity-from-fossil-fuels/country-comparison',\n",
       " 'https://www.cia.gov/the-world-factbook/field/electricity-from-nuclear-fuels/country-comparison',\n",
       " 'https://www.cia.gov/the-world-factbook/field/electricity-from-hydroelectric-plants/country-comparison',\n",
       " 'https://www.cia.gov/the-world-factbook/field/electricity-from-other-renewable-sources/country-comparison',\n",
       " 'https://www.cia.gov/the-world-factbook/field/crude-oil-production/country-comparison',\n",
       " 'https://www.cia.gov/the-world-factbook/field/crude-oil-exports/country-comparison',\n",
       " 'https://www.cia.gov/the-world-factbook/field/crude-oil-imports/country-comparison',\n",
       " 'https://www.cia.gov/the-world-factbook/field/crude-oil-proved-reserves/country-comparison',\n",
       " 'https://www.cia.gov/the-world-factbook/field/refined-petroleum-products-production/country-comparison',\n",
       " 'https://www.cia.gov/the-world-factbook/field/refined-petroleum-products-consumption/country-comparison',\n",
       " 'https://www.cia.gov/the-world-factbook/field/refined-petroleum-products-exports/country-comparison',\n",
       " 'https://www.cia.gov/the-world-factbook/field/refined-petroleum-products-imports/country-comparison',\n",
       " 'https://www.cia.gov/the-world-factbook/field/natural-gas-production/country-comparison',\n",
       " 'https://www.cia.gov/the-world-factbook/field/natural-gas-consumption/country-comparison',\n",
       " 'https://www.cia.gov/the-world-factbook/field/natural-gas-exports/country-comparison',\n",
       " 'https://www.cia.gov/the-world-factbook/field/natural-gas-imports/country-comparison',\n",
       " 'https://www.cia.gov/the-world-factbook/field/natural-gas-proved-reserves/country-comparison',\n",
       " 'https://www.cia.gov/the-world-factbook/field/telephones-fixed-lines/country-comparison',\n",
       " 'https://www.cia.gov/the-world-factbook/field/telephones-mobile-cellular/country-comparison',\n",
       " 'https://www.cia.gov/the-world-factbook/field/internet-users/country-comparison',\n",
       " 'https://www.cia.gov/the-world-factbook/field/broadband-fixed-subscriptions/country-comparison',\n",
       " 'https://www.cia.gov/the-world-factbook/field/airports/country-comparison',\n",
       " 'https://www.cia.gov/the-world-factbook/field/railways/country-comparison',\n",
       " 'https://www.cia.gov/the-world-factbook/field/roadways/country-comparison',\n",
       " 'https://www.cia.gov/the-world-factbook/field/waterways/country-comparison',\n",
       " 'https://www.cia.gov/the-world-factbook/field/merchant-marine/country-comparison',\n",
       " 'https://www.cia.gov/the-world-factbook/field/military-expenditures/country-comparison']"
      ]
     },
     "execution_count": 59,
     "metadata": {},
     "output_type": "execute_result"
    }
   ],
   "source": [
    "theme_links"
   ]
  },
  {
   "cell_type": "code",
   "execution_count": 56,
   "id": "7b0ffa20",
   "metadata": {},
   "outputs": [],
   "source": [
    "# Pour chaque lien, on applique la procédure vue au TP8\n",
    "for link in theme_links:\n",
    "    page = urllib.request.urlopen(link)\n",
    "    soup = BeautifulSoup(page, 'html.parser')\n",
    "    table = soup.find('table', attrs={'class': 'content-table table-auto'})\n",
    "    results = table.find_all('tr')\n",
    "    # Retrouve le thème\n",
    "    theme = link.split('/')[5].replace('-','_')\n",
    "    rows = [] \n",
    "    rows.append(['rank', 'country', theme, 'date_of_information'])\n",
    "    for result in results :\n",
    "        data = result.find_all('td')\n",
    "        if len(data) > 0 :\n",
    "            rank = data[0].getText()\n",
    "            country = data[1].getText()\n",
    "            theme_data = data[2].getText().replace(',','') #  remove the decimal separator\n",
    "            doi = data[3].getText()\n",
    "            rows.append([rank, country, theme_data, doi])\n",
    "            \n",
    "    # Create csv and write rows to output file\n",
    "    with open('webscraping/' + theme + '.csv','w', newline='') as f_output:\n",
    "        csv_output = csv.writer(f_output)\n",
    "        csv_output.writerows(rows)"
   ]
  },
  {
   "cell_type": "code",
   "execution_count": 84,
   "id": "bec80957",
   "metadata": {},
   "outputs": [
    {
     "data": {
      "text/html": [
       "<div>\n",
       "<style scoped>\n",
       "    .dataframe tbody tr th:only-of-type {\n",
       "        vertical-align: middle;\n",
       "    }\n",
       "\n",
       "    .dataframe tbody tr th {\n",
       "        vertical-align: top;\n",
       "    }\n",
       "\n",
       "    .dataframe thead th {\n",
       "        text-align: right;\n",
       "    }\n",
       "</style>\n",
       "<table border=\"1\" class=\"dataframe\">\n",
       "  <thead>\n",
       "    <tr style=\"text-align: right;\">\n",
       "      <th></th>\n",
       "      <th>Code</th>\n",
       "      <th>Name</th>\n",
       "      <th>Region</th>\n",
       "      <th>area</th>\n",
       "      <th>population</th>\n",
       "      <th>median_age</th>\n",
       "    </tr>\n",
       "  </thead>\n",
       "  <tbody>\n",
       "    <tr>\n",
       "      <th>0</th>\n",
       "      <td>af</td>\n",
       "      <td>Afghanistan</td>\n",
       "      <td>South Asia</td>\n",
       "      <td>652230</td>\n",
       "      <td>37466414</td>\n",
       "      <td>19.5</td>\n",
       "    </tr>\n",
       "    <tr>\n",
       "      <th>1</th>\n",
       "      <td>al</td>\n",
       "      <td>Albania</td>\n",
       "      <td>Europe</td>\n",
       "      <td>28748</td>\n",
       "      <td>3088385</td>\n",
       "      <td>34.3</td>\n",
       "    </tr>\n",
       "    <tr>\n",
       "      <th>2</th>\n",
       "      <td>ag</td>\n",
       "      <td>Algeria</td>\n",
       "      <td>Africa</td>\n",
       "      <td>2381740</td>\n",
       "      <td>43576691</td>\n",
       "      <td>28.9</td>\n",
       "    </tr>\n",
       "    <tr>\n",
       "      <th>3</th>\n",
       "      <td>an</td>\n",
       "      <td>Andorra</td>\n",
       "      <td>Europe</td>\n",
       "      <td>468</td>\n",
       "      <td>85645</td>\n",
       "      <td>46.2</td>\n",
       "    </tr>\n",
       "    <tr>\n",
       "      <th>4</th>\n",
       "      <td>ao</td>\n",
       "      <td>Angola</td>\n",
       "      <td>Africa</td>\n",
       "      <td>1246700</td>\n",
       "      <td>33642646</td>\n",
       "      <td>15.9</td>\n",
       "    </tr>\n",
       "  </tbody>\n",
       "</table>\n",
       "</div>"
      ],
      "text/plain": [
       "  Code         Name      Region     area  population  median_age\n",
       "0   af  Afghanistan  South Asia   652230    37466414        19.5\n",
       "1   al      Albania      Europe    28748     3088385        34.3\n",
       "2   ag      Algeria      Africa  2381740    43576691        28.9\n",
       "3   an      Andorra      Europe      468       85645        46.2\n",
       "4   ao       Angola      Africa  1246700    33642646        15.9"
      ]
     },
     "execution_count": 84,
     "metadata": {},
     "output_type": "execute_result"
    }
   ],
   "source": [
    "# Jointure des fichiers csv sur un nombre limité de thèmes\n",
    "selected_themes = ['area', 'population', 'median_age']\n",
    "j = codes\n",
    "for s in selected_themes:\n",
    "    df = pandas.read_csv(\"webscraping/\" + s + \".csv\")\n",
    "    # jointure\n",
    "    j = j.merge(df, how = 'inner', left_on = 'Name', right_on = 'country')\n",
    "# projection\n",
    "j = j[['Code', 'Name', 'Region'] + selected_themes]\n",
    "j.head()"
   ]
  },
  {
   "cell_type": "markdown",
   "id": "3b70613f",
   "metadata": {},
   "source": [
    "## Dashboard interactif"
   ]
  },
  {
   "cell_type": "code",
   "execution_count": null,
   "id": "50f2b14d",
   "metadata": {},
   "outputs": [],
   "source": []
  }
 ],
 "metadata": {
  "kernelspec": {
   "display_name": "Python 3",
   "language": "python",
   "name": "python3"
  },
  "language_info": {
   "codemirror_mode": {
    "name": "ipython",
    "version": 3
   },
   "file_extension": ".py",
   "mimetype": "text/x-python",
   "name": "python",
   "nbconvert_exporter": "python",
   "pygments_lexer": "ipython3",
   "version": "3.8.8"
  }
 },
 "nbformat": 4,
 "nbformat_minor": 5
}
