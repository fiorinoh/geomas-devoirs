{
 "cells": [
  {
   "cell_type": "markdown",
   "id": "f5643ca7",
   "metadata": {},
   "source": [
    "# Mission: Impossible"
   ]
  },
  {
   "cell_type": "markdown",
   "id": "df2f2fbc",
   "metadata": {},
   "source": [
    "Le but de cette mission est de webscraper le world factbook de la CIA et de cartographier les données collectées sur un dashboard cartographique (carte intéractive + widget de présentation des données attributaires).  \n",
    "\n",
    "Voici quelques ressources qui vous permettront de la réaliser :\n",
    "- https://www.cia.gov/the-world-factbook/\n",
    "- https://youtu.be/t9Ed5QyO7qY\n",
    "- https://ipywidgets.readthedocs.io/\n",
    "- https://public.opendatasoft.com/explore/dataset/world-administrative-boundaries/table/?sort=iso3\n",
    "- https://www.cia.gov/the-world-factbook/references/country-data-codes/\n",
    "\n",
    "Cette mission, si vous l'acceptez, se terminera le **17 décembre 2021 à 18h**. A vous de recruter votre équipe (3 personnes max) formée d'au moins un expert en programmation python. Comme d'habitude, si vous ou l'un de vos agents étiez capturé ou épuisé, l'Institut of Urban Planning and Alpine Geography nierait avoir eu connaissance de vos agissements."
   ]
  },
  {
   "cell_type": "markdown",
   "id": "04882e0c",
   "metadata": {},
   "source": [
    "### Chargement des librairies"
   ]
  },
  {
   "cell_type": "code",
   "execution_count": 61,
   "id": "8bb46ae4",
   "metadata": {},
   "outputs": [],
   "source": [
    "from bs4 import BeautifulSoup\n",
    "import csv\n",
    "import geopandas as gpd\n",
    "import ipywidgets as widgets\n",
    "import leafmap\n",
    "import urllib.request"
   ]
  },
  {
   "cell_type": "markdown",
   "id": "f2048105",
   "metadata": {},
   "source": [
    "### Chargement du fond de carte"
   ]
  },
  {
   "cell_type": "code",
   "execution_count": 63,
   "id": "e0edb286",
   "metadata": {},
   "outputs": [
    {
     "data": {
      "application/vnd.jupyter.widget-view+json": {
       "model_id": "bc93d3dcea0047e1a8cd7816b567f9e2",
       "version_major": 2,
       "version_minor": 0
      },
      "text/plain": [
       "Map(center=[45, 0], controls=(ZoomControl(options=['position', 'zoom_in_text', 'zoom_in_title', 'zoom_out_text…"
      ]
     },
     "metadata": {},
     "output_type": "display_data"
    }
   ],
   "source": [
    "world = leafmap.Map(center = [45, 0], zoom = 2)\n",
    "style = {\n",
    "    \"stroke\": True,\n",
    "    \"color\": \"#0000ff\",\n",
    "    \"weight\": 2,\n",
    "    \"opacity\": 1,\n",
    "    \"fill\": True,\n",
    "    \"fillColor\": \"#0000ff\",\n",
    "    \"fillOpacity\": 0.1,\n",
    "}\n",
    "hover_style = {\"fillOpacity\": 0.7}\n",
    "world.add_geojson(\"webscraping/world-administrative-boundaries.geojson\", layer_name = \"World\", style = style, hover_style = hover_style)\n",
    "world"
   ]
  },
  {
   "cell_type": "markdown",
   "id": "47683476",
   "metadata": {},
   "source": [
    "### Chargement des données"
   ]
  },
  {
   "cell_type": "code",
   "execution_count": 19,
   "id": "b510f519",
   "metadata": {},
   "outputs": [
    {
     "data": {
      "text/html": [
       "<div>\n",
       "<style scoped>\n",
       "    .dataframe tbody tr th:only-of-type {\n",
       "        vertical-align: middle;\n",
       "    }\n",
       "\n",
       "    .dataframe tbody tr th {\n",
       "        vertical-align: top;\n",
       "    }\n",
       "\n",
       "    .dataframe thead th {\n",
       "        text-align: right;\n",
       "    }\n",
       "</style>\n",
       "<table border=\"1\" class=\"dataframe\">\n",
       "  <thead>\n",
       "    <tr style=\"text-align: right;\">\n",
       "      <th></th>\n",
       "      <th>Code</th>\n",
       "      <th>Name</th>\n",
       "      <th>Category</th>\n",
       "      <th>Region</th>\n",
       "      <th>geometry</th>\n",
       "    </tr>\n",
       "  </thead>\n",
       "  <tbody>\n",
       "    <tr>\n",
       "      <th>0</th>\n",
       "      <td>af</td>\n",
       "      <td>Afghanistan</td>\n",
       "      <td>Countries</td>\n",
       "      <td>South Asia</td>\n",
       "      <td>None</td>\n",
       "    </tr>\n",
       "    <tr>\n",
       "      <th>1</th>\n",
       "      <td>al</td>\n",
       "      <td>Albania</td>\n",
       "      <td>Countries</td>\n",
       "      <td>Europe</td>\n",
       "      <td>None</td>\n",
       "    </tr>\n",
       "    <tr>\n",
       "      <th>2</th>\n",
       "      <td>ag</td>\n",
       "      <td>Algeria</td>\n",
       "      <td>Countries</td>\n",
       "      <td>Africa</td>\n",
       "      <td>None</td>\n",
       "    </tr>\n",
       "    <tr>\n",
       "      <th>3</th>\n",
       "      <td>an</td>\n",
       "      <td>Andorra</td>\n",
       "      <td>Countries</td>\n",
       "      <td>Europe</td>\n",
       "      <td>None</td>\n",
       "    </tr>\n",
       "    <tr>\n",
       "      <th>4</th>\n",
       "      <td>ao</td>\n",
       "      <td>Angola</td>\n",
       "      <td>Countries</td>\n",
       "      <td>Africa</td>\n",
       "      <td>None</td>\n",
       "    </tr>\n",
       "  </tbody>\n",
       "</table>\n",
       "</div>"
      ],
      "text/plain": [
       "  Code         Name   Category      Region geometry\n",
       "0   af  Afghanistan  Countries  South Asia     None\n",
       "1   al      Albania  Countries      Europe     None\n",
       "2   ag      Algeria  Countries      Africa     None\n",
       "3   an      Andorra  Countries      Europe     None\n",
       "4   ao       Angola  Countries      Africa     None"
      ]
     },
     "execution_count": 19,
     "metadata": {},
     "output_type": "execute_result"
    }
   ],
   "source": [
    "# Chargement des codes normalisés des pays\n",
    "codes = gpd.read_file(\"webscraping/codes.csv\")\n",
    "codes.head()"
   ]
  },
  {
   "cell_type": "code",
   "execution_count": 48,
   "id": "6dd5864e",
   "metadata": {
    "scrolled": false
   },
   "outputs": [],
   "source": [
    "# url des thèmes disponibles\n",
    "url_themes = \"https://www.cia.gov/the-world-factbook/references/guide-to-country-comparisons/\"\n",
    "page = urllib.request.urlopen(url_themes)\n",
    "soup = BeautifulSoup(page, 'html.parser')\n",
    "theme = soup.find_all('a', attrs={'class': 'link-button bold'})\n",
    "theme_links = []\n",
    "for link in theme:\n",
    "    theme_links.append('https://www.cia.gov' + link.get('href'))"
   ]
  },
  {
   "cell_type": "code",
   "execution_count": 59,
   "id": "6c30b21e",
   "metadata": {},
   "outputs": [
    {
     "data": {
      "text/plain": [
       "['https://www.cia.gov/the-world-factbook/field/area/country-comparison',\n",
       " 'https://www.cia.gov/the-world-factbook/field/population/country-comparison',\n",
       " 'https://www.cia.gov/the-world-factbook/field/median-age/country-comparison',\n",
       " 'https://www.cia.gov/the-world-factbook/field/population-growth-rate/country-comparison',\n",
       " 'https://www.cia.gov/the-world-factbook/field/birth-rate/country-comparison',\n",
       " 'https://www.cia.gov/the-world-factbook/field/death-rate/country-comparison',\n",
       " 'https://www.cia.gov/the-world-factbook/field/net-migration-rate/country-comparison',\n",
       " 'https://www.cia.gov/the-world-factbook/field/maternal-mortality-ratio/country-comparison',\n",
       " 'https://www.cia.gov/the-world-factbook/field/infant-mortality-rate/country-comparison',\n",
       " 'https://www.cia.gov/the-world-factbook/field/life-expectancy-at-birth/country-comparison',\n",
       " 'https://www.cia.gov/the-world-factbook/field/total-fertility-rate/country-comparison',\n",
       " 'https://www.cia.gov/the-world-factbook/field/hiv-aids-adult-prevalence-rate/country-comparison',\n",
       " 'https://www.cia.gov/the-world-factbook/field/hiv-aids-people-living-with-hiv-aids/country-comparison',\n",
       " 'https://www.cia.gov/the-world-factbook/field/hiv-aids-deaths/country-comparison',\n",
       " 'https://www.cia.gov/the-world-factbook/field/obesity-adult-prevalence-rate/country-comparison',\n",
       " 'https://www.cia.gov/the-world-factbook/field/children-under-the-age-of-5-years-underweight/country-comparison',\n",
       " 'https://www.cia.gov/the-world-factbook/field/education-expenditures/country-comparison',\n",
       " 'https://www.cia.gov/the-world-factbook/field/unemployment-youth-ages-15-24/country-comparison',\n",
       " 'https://www.cia.gov/the-world-factbook/field/revenue-from-forest-resources/country-comparison',\n",
       " 'https://www.cia.gov/the-world-factbook/field/revenue-from-coal/country-comparison',\n",
       " 'https://www.cia.gov/the-world-factbook/field/real-gdp-purchasing-power-parity/country-comparison',\n",
       " 'https://www.cia.gov/the-world-factbook/field/real-gdp-growth-rate/country-comparison',\n",
       " 'https://www.cia.gov/the-world-factbook/field/real-gdp-per-capita/country-comparison',\n",
       " 'https://www.cia.gov/the-world-factbook/field/inflation-rate-consumer-prices/country-comparison',\n",
       " 'https://www.cia.gov/the-world-factbook/field/industrial-production-growth-rate/country-comparison',\n",
       " 'https://www.cia.gov/the-world-factbook/field/labor-force/country-comparison',\n",
       " 'https://www.cia.gov/the-world-factbook/field/unemployment-rate/country-comparison',\n",
       " 'https://www.cia.gov/the-world-factbook/field/gini-index-coefficient-distribution-of-family-income/country-comparison',\n",
       " 'https://www.cia.gov/the-world-factbook/field/budget-surplus-or-deficit/country-comparison',\n",
       " 'https://www.cia.gov/the-world-factbook/field/public-debt/country-comparison',\n",
       " 'https://www.cia.gov/the-world-factbook/field/taxes-and-other-revenues/country-comparison',\n",
       " 'https://www.cia.gov/the-world-factbook/field/current-account-balance/country-comparison',\n",
       " 'https://www.cia.gov/the-world-factbook/field/exports/country-comparison',\n",
       " 'https://www.cia.gov/the-world-factbook/field/imports/country-comparison',\n",
       " 'https://www.cia.gov/the-world-factbook/field/reserves-of-foreign-exchange-and-gold/country-comparison',\n",
       " 'https://www.cia.gov/the-world-factbook/field/debt-external/country-comparison',\n",
       " 'https://www.cia.gov/the-world-factbook/field/electricity-production/country-comparison',\n",
       " 'https://www.cia.gov/the-world-factbook/field/electricity-consumption/country-comparison',\n",
       " 'https://www.cia.gov/the-world-factbook/field/electricity-exports/country-comparison',\n",
       " 'https://www.cia.gov/the-world-factbook/field/electricity-imports/country-comparison',\n",
       " 'https://www.cia.gov/the-world-factbook/field/electricity-installed-generating-capacity/country-comparison',\n",
       " 'https://www.cia.gov/the-world-factbook/field/electricity-from-fossil-fuels/country-comparison',\n",
       " 'https://www.cia.gov/the-world-factbook/field/electricity-from-nuclear-fuels/country-comparison',\n",
       " 'https://www.cia.gov/the-world-factbook/field/electricity-from-hydroelectric-plants/country-comparison',\n",
       " 'https://www.cia.gov/the-world-factbook/field/electricity-from-other-renewable-sources/country-comparison',\n",
       " 'https://www.cia.gov/the-world-factbook/field/crude-oil-production/country-comparison',\n",
       " 'https://www.cia.gov/the-world-factbook/field/crude-oil-exports/country-comparison',\n",
       " 'https://www.cia.gov/the-world-factbook/field/crude-oil-imports/country-comparison',\n",
       " 'https://www.cia.gov/the-world-factbook/field/crude-oil-proved-reserves/country-comparison',\n",
       " 'https://www.cia.gov/the-world-factbook/field/refined-petroleum-products-production/country-comparison',\n",
       " 'https://www.cia.gov/the-world-factbook/field/refined-petroleum-products-consumption/country-comparison',\n",
       " 'https://www.cia.gov/the-world-factbook/field/refined-petroleum-products-exports/country-comparison',\n",
       " 'https://www.cia.gov/the-world-factbook/field/refined-petroleum-products-imports/country-comparison',\n",
       " 'https://www.cia.gov/the-world-factbook/field/natural-gas-production/country-comparison',\n",
       " 'https://www.cia.gov/the-world-factbook/field/natural-gas-consumption/country-comparison',\n",
       " 'https://www.cia.gov/the-world-factbook/field/natural-gas-exports/country-comparison',\n",
       " 'https://www.cia.gov/the-world-factbook/field/natural-gas-imports/country-comparison',\n",
       " 'https://www.cia.gov/the-world-factbook/field/natural-gas-proved-reserves/country-comparison',\n",
       " 'https://www.cia.gov/the-world-factbook/field/telephones-fixed-lines/country-comparison',\n",
       " 'https://www.cia.gov/the-world-factbook/field/telephones-mobile-cellular/country-comparison',\n",
       " 'https://www.cia.gov/the-world-factbook/field/internet-users/country-comparison',\n",
       " 'https://www.cia.gov/the-world-factbook/field/broadband-fixed-subscriptions/country-comparison',\n",
       " 'https://www.cia.gov/the-world-factbook/field/airports/country-comparison',\n",
       " 'https://www.cia.gov/the-world-factbook/field/railways/country-comparison',\n",
       " 'https://www.cia.gov/the-world-factbook/field/roadways/country-comparison',\n",
       " 'https://www.cia.gov/the-world-factbook/field/waterways/country-comparison',\n",
       " 'https://www.cia.gov/the-world-factbook/field/merchant-marine/country-comparison',\n",
       " 'https://www.cia.gov/the-world-factbook/field/military-expenditures/country-comparison']"
      ]
     },
     "execution_count": 59,
     "metadata": {},
     "output_type": "execute_result"
    }
   ],
   "source": [
    "theme_links"
   ]
  },
  {
   "cell_type": "code",
   "execution_count": 56,
   "id": "655704fb",
   "metadata": {},
   "outputs": [],
   "source": [
    "# Pour chaque lien, on applique la procédure vue au TP8\n",
    "for link in theme_links:\n",
    "    page = urllib.request.urlopen(link)\n",
    "    soup = BeautifulSoup(page, 'html.parser')\n",
    "    table = soup.find('table', attrs={'class': 'content-table table-auto'})\n",
    "    results = table.find_all('tr')\n",
    "    # Retrouve le thème\n",
    "    theme = link.split('/')[5].replace('-','_')\n",
    "    rows = [] \n",
    "    rows.append(['rank', 'country', theme, 'date_of_information'])\n",
    "    for result in results :\n",
    "        data = result.find_all('td')\n",
    "        if len(data) > 0 :\n",
    "            rank = data[0].getText()\n",
    "            country = data[1].getText()\n",
    "            theme_data = data[2].getText().replace(',','') #  remove the decimal separator\n",
    "            doi = data[3].getText()\n",
    "            rows.append([rank, country, theme_data, doi])\n",
    "            \n",
    "    # Create csv and write rows to output file\n",
    "    with open('webscraping/' + theme + '.csv','w', newline='') as f_output:\n",
    "        csv_output = csv.writer(f_output)\n",
    "        csv_output.writerows(rows)"
   ]
  },
  {
   "cell_type": "code",
   "execution_count": null,
   "id": "d6616c87",
   "metadata": {},
   "outputs": [],
   "source": []
  }
 ],
 "metadata": {
  "kernelspec": {
   "display_name": "Python 3",
   "language": "python",
   "name": "python3"
  },
  "language_info": {
   "codemirror_mode": {
    "name": "ipython",
    "version": 3
   },
   "file_extension": ".py",
   "mimetype": "text/x-python",
   "name": "python",
   "nbconvert_exporter": "python",
   "pygments_lexer": "ipython3",
   "version": "3.8.8"
  }
 },
 "nbformat": 4,
 "nbformat_minor": 5
}
