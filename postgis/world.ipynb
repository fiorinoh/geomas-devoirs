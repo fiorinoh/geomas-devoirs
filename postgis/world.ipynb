{
 "cells": [
  {
   "cell_type": "markdown",
   "id": "ac00237a",
   "metadata": {},
   "source": [
    "# Requêtes attributaires en SQL\n",
    "\n",
    "---\n",
    "\n",
    "Faire les requêtes ci-dessous en SQL.\n",
    "\n",
    "### Connexion à la base de données"
   ]
  },
  {
   "cell_type": "code",
   "execution_count": 1,
   "id": "0407b8eb",
   "metadata": {},
   "outputs": [],
   "source": [
    "from sqlalchemy import create_engine\n",
    "import getpass"
   ]
  },
  {
   "cell_type": "code",
   "execution_count": 2,
   "id": "47248d25",
   "metadata": {},
   "outputs": [
    {
     "name": "stdout",
     "output_type": "stream",
     "text": [
      "Entrez votre identifiant AGALAN : fiorinhu\n"
     ]
    }
   ],
   "source": [
    "id = input(\"Entrez votre identifiant AGALAN : \")"
   ]
  },
  {
   "cell_type": "code",
   "execution_count": 3,
   "id": "2839de78",
   "metadata": {},
   "outputs": [
    {
     "name": "stdout",
     "output_type": "stream",
     "text": [
      "Entrez votre mot de passe AGALAN : ········\n"
     ]
    }
   ],
   "source": [
    "password = getpass.getpass(\"Entrez votre mot de passe AGALAN : \")"
   ]
  },
  {
   "cell_type": "code",
   "execution_count": 4,
   "id": "6c7335c7",
   "metadata": {},
   "outputs": [
    {
     "name": "stdout",
     "output_type": "stream",
     "text": [
      "Entrez le nom de votre base de données : bd_fiorinhu\n"
     ]
    }
   ],
   "source": [
    "bd = input(\"Entrez le nom de votre base de données : \")"
   ]
  },
  {
   "cell_type": "code",
   "execution_count": 5,
   "id": "d51e8bce",
   "metadata": {},
   "outputs": [
    {
     "name": "stdout",
     "output_type": "stream",
     "text": [
      "Entrez l'adresse IP de votre base de données : 129.88.175.104\n"
     ]
    }
   ],
   "source": [
    "ip = input(\"Entrez l'adresse IP de votre base de données : \")"
   ]
  },
  {
   "cell_type": "code",
   "execution_count": 6,
   "id": "74e651d3",
   "metadata": {},
   "outputs": [],
   "source": [
    "%load_ext sql\n",
    "%sql postgresql://$id:$password@$ip/$bd"
   ]
  },
  {
   "cell_type": "markdown",
   "id": "87395e7e",
   "metadata": {},
   "source": [
    "### Création du schéma \"world\""
   ]
  },
  {
   "cell_type": "markdown",
   "id": "211fbdae",
   "metadata": {},
   "source": [
    "- Dans QGIS, connectez-vous à votre base de données\n",
    "- Ouvrez l'éditeur de requêtes et chargez le fichier world.sql\n",
    "- Exécutez le script world.sql\n",
    "\n",
    "Cela créera un schéma 'world' ainsi que 3 tables : city, country et countrylanguage. Pour les faire apparaître dans le bandeau de gauche, cliquez sur votre connexion puis sur le bouton 'Actualiser' (double flèche bleue).  \n",
    "\n",
    "Vous êtes prêts à travailler."
   ]
  },
  {
   "cell_type": "markdown",
   "id": "a79c9852",
   "metadata": {},
   "source": [
    "### Requêtes SQL"
   ]
  },
  {
   "cell_type": "markdown",
   "id": "b2219e40",
   "metadata": {},
   "source": [
    "1. Quelle est la population d’Amsterdam ?"
   ]
  },
  {
   "cell_type": "markdown",
   "id": "9933fe48",
   "metadata": {},
   "source": [
    "2. Sur quel continent se trouve le Belize ?"
   ]
  },
  {
   "cell_type": "markdown",
   "id": "660f6d98",
   "metadata": {},
   "source": [
    "3. Quels sont les pays africains dont l’espérance de vie est inférieure à 50 ans ?"
   ]
  },
  {
   "cell_type": "markdown",
   "id": "ceee1ad4",
   "metadata": {},
   "source": [
    "4. Quelles sont les langues officielles parlées par moins de 50% de la population ?"
   ]
  },
  {
   "cell_type": "markdown",
   "id": "385a259c",
   "metadata": {},
   "source": [
    "5. Quelles sont les villes dont la population est comprise entre 10 millions et 20 millions d’habitants ?"
   ]
  },
  {
   "cell_type": "markdown",
   "id": "fa76e03a",
   "metadata": {},
   "source": [
    "6. Dans combien de pays l’espagnol est-il la langue officielle ?"
   ]
  },
  {
   "cell_type": "markdown",
   "id": "6993220b",
   "metadata": {},
   "source": [
    "7. Dans combien de villes la population est supérieure à 5 millions d’habitants ?"
   ]
  },
  {
   "cell_type": "markdown",
   "id": "073fe647",
   "metadata": {},
   "source": [
    "8. Combien de pays compte l’Europe ?"
   ]
  },
  {
   "cell_type": "markdown",
   "id": "682091b2",
   "metadata": {},
   "source": [
    "9. Combien de pays européens ont une superficie de moins de 500 km2 ?"
   ]
  },
  {
   "cell_type": "markdown",
   "id": "6e0a5296",
   "metadata": {},
   "source": [
    "10. Pour chaque continent, quelle est l’espérance de vie moyenne ? minimale ? maximale ?"
   ]
  },
  {
   "cell_type": "markdown",
   "id": "82b5af77",
   "metadata": {},
   "source": [
    "11. Quelle est la capitale du Belize ?"
   ]
  },
  {
   "cell_type": "markdown",
   "id": "9da1b8f7",
   "metadata": {},
   "source": [
    "12. Quelles sont les langues officielles parlées en Europe ?"
   ]
  },
  {
   "cell_type": "markdown",
   "id": "922397ab",
   "metadata": {},
   "source": [
    "13. Quels sont les pays qui ont le français comme langue officielle ?"
   ]
  },
  {
   "cell_type": "markdown",
   "id": "bd175685",
   "metadata": {},
   "source": [
    "14. Quels sont les pays qui partagent la même langue officielle ?"
   ]
  },
  {
   "cell_type": "markdown",
   "id": "28af493b",
   "metadata": {},
   "source": [
    "15. Quelles sont les langues parlées en Belgique ?"
   ]
  },
  {
   "cell_type": "markdown",
   "id": "66de46b2",
   "metadata": {},
   "source": [
    "16. Quelle est la langue la moins parlée en Espagne ?"
   ]
  },
  {
   "cell_type": "markdown",
   "id": "32b0f95f",
   "metadata": {},
   "source": [
    "17. Quels sont les pays dont la capitale représente plus de 50% de la population totale "
   ]
  },
  {
   "cell_type": "markdown",
   "id": "27eced78",
   "metadata": {},
   "source": [
    "18. Pour chaque pays, quelle est la ville la plus peuplée ? La moins peuplée ?"
   ]
  },
  {
   "cell_type": "markdown",
   "id": "a1eaf296",
   "metadata": {},
   "source": [
    "19. Pour chaque pays, quel est la densité de population ?"
   ]
  },
  {
   "cell_type": "markdown",
   "id": "5dcb4723",
   "metadata": {},
   "source": [
    "20. Quel est le pays où le français et l’italien sont des langues officielles ?"
   ]
  },
  {
   "cell_type": "markdown",
   "id": "9391e0de",
   "metadata": {},
   "source": [
    "21. Quelles sont les langues parlées en Amérique du Nord et pas en Europe ?"
   ]
  },
  {
   "cell_type": "markdown",
   "id": "a481e4fc",
   "metadata": {},
   "source": [
    "22. Pour chaque continent, quel est le pays ayant la plus grande population ?"
   ]
  },
  {
   "cell_type": "code",
   "execution_count": null,
   "id": "62dffb39",
   "metadata": {},
   "outputs": [],
   "source": []
  }
 ],
 "metadata": {
  "kernelspec": {
   "display_name": "Python 3",
   "language": "python",
   "name": "python3"
  },
  "language_info": {
   "codemirror_mode": {
    "name": "ipython",
    "version": 3
   },
   "file_extension": ".py",
   "mimetype": "text/x-python",
   "name": "python",
   "nbconvert_exporter": "python",
   "pygments_lexer": "ipython3",
   "version": "3.8.8"
  }
 },
 "nbformat": 4,
 "nbformat_minor": 5
}
